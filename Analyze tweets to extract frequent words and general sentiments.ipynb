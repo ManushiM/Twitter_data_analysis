{
 "cells": [
  {
   "cell_type": "code",
   "execution_count": 1,
   "metadata": {},
   "outputs": [
    {
     "name": "stdout",
     "output_type": "stream",
     "text": [
      "Enter password: ········\n"
     ]
    }
   ],
   "source": [
    "from arcgis.gis import GIS\n",
    "from arcgis.features import FeatureLayer\n",
    "gis = GIS(\"https://ourcommunity.maps.arcgis.com\", \"MMajumdar_ourcommunity\")"
   ]
  },
  {
   "cell_type": "markdown",
   "metadata": {},
   "source": [
    "We read in the twitter data scraped and stored in a FeatureLayer. [Here](https://github.com/Jwmazzi/twitter_agol) is the Github repository for the script that scrapes this data"
   ]
  },
  {
   "cell_type": "code",
   "execution_count": 2,
   "metadata": {},
   "outputs": [
    {
     "data": {
      "text/plain": [
       "(82843, 7)"
      ]
     },
     "execution_count": 2,
     "metadata": {},
     "output_type": "execute_result"
    }
   ],
   "source": [
    "tweets_item = gis.content.get('e441d3f5e13b412299418034d1fb0eba')\n",
    "tweets_layer = FeatureLayer(tweets_item.url+'/0')\n",
    "tweets_features = tweets_layer.query(out_fields='tweet_text, hashtags, screen_name, state, party, created_at')\n",
    "tweets_df = tweets_features.sdf\n",
    "tweets_df.shape"
   ]
  },
  {
   "cell_type": "code",
   "execution_count": 3,
   "metadata": {},
   "outputs": [
    {
     "data": {
      "text/html": [
       "<div>\n",
       "<style scoped>\n",
       "    .dataframe tbody tr th:only-of-type {\n",
       "        vertical-align: middle;\n",
       "    }\n",
       "\n",
       "    .dataframe tbody tr th {\n",
       "        vertical-align: top;\n",
       "    }\n",
       "\n",
       "    .dataframe thead th {\n",
       "        text-align: right;\n",
       "    }\n",
       "</style>\n",
       "<table border=\"1\" class=\"dataframe\">\n",
       "  <thead>\n",
       "    <tr style=\"text-align: right;\">\n",
       "      <th></th>\n",
       "      <th>ObjectId</th>\n",
       "      <th>created_at</th>\n",
       "      <th>hashtags</th>\n",
       "      <th>party</th>\n",
       "      <th>screen_name</th>\n",
       "      <th>state</th>\n",
       "      <th>tweet_text</th>\n",
       "    </tr>\n",
       "  </thead>\n",
       "  <tbody>\n",
       "    <tr>\n",
       "      <th>0</th>\n",
       "      <td>82311</td>\n",
       "      <td>2020-08-26 00:52:01</td>\n",
       "      <td></td>\n",
       "      <td>Other</td>\n",
       "      <td>calabasas_nigga</td>\n",
       "      <td>New York</td>\n",
       "      <td>snapchat rejected three major acquisition offe...</td>\n",
       "    </tr>\n",
       "    <tr>\n",
       "      <th>1</th>\n",
       "      <td>82312</td>\n",
       "      <td>2020-08-26 00:52:01</td>\n",
       "      <td></td>\n",
       "      <td>Other</td>\n",
       "      <td>yeonblu</td>\n",
       "      <td>New York</td>\n",
       "      <td>i dont know what to say to u guys :( im really...</td>\n",
       "    </tr>\n",
       "    <tr>\n",
       "      <th>2</th>\n",
       "      <td>82313</td>\n",
       "      <td>2020-08-26 00:52:01</td>\n",
       "      <td></td>\n",
       "      <td>Other</td>\n",
       "      <td>KMD__x</td>\n",
       "      <td>New York</td>\n",
       "      <td>I keep frontin like I don’t wanna go back to s...</td>\n",
       "    </tr>\n",
       "    <tr>\n",
       "      <th>3</th>\n",
       "      <td>82314</td>\n",
       "      <td>2020-08-26 00:52:01</td>\n",
       "      <td></td>\n",
       "      <td>Other</td>\n",
       "      <td>HereticGalileo</td>\n",
       "      <td>New York</td>\n",
       "      <td>@Traps_not_gay44 @socialistraptor I'll keep an...</td>\n",
       "    </tr>\n",
       "    <tr>\n",
       "      <th>4</th>\n",
       "      <td>82315</td>\n",
       "      <td>2020-08-26 00:52:01</td>\n",
       "      <td></td>\n",
       "      <td>Other</td>\n",
       "      <td>CorruptedKai</td>\n",
       "      <td>New York</td>\n",
       "      <td>And this moment of eternal peace  has utterly ...</td>\n",
       "    </tr>\n",
       "  </tbody>\n",
       "</table>\n",
       "</div>"
      ],
      "text/plain": [
       "   ObjectId          created_at hashtags  party      screen_name     state  \\\n",
       "0     82311 2020-08-26 00:52:01           Other  calabasas_nigga  New York   \n",
       "1     82312 2020-08-26 00:52:01           Other          yeonblu  New York   \n",
       "2     82313 2020-08-26 00:52:01           Other           KMD__x  New York   \n",
       "3     82314 2020-08-26 00:52:01           Other   HereticGalileo  New York   \n",
       "4     82315 2020-08-26 00:52:01           Other     CorruptedKai  New York   \n",
       "\n",
       "                                          tweet_text  \n",
       "0  snapchat rejected three major acquisition offe...  \n",
       "1  i dont know what to say to u guys :( im really...  \n",
       "2  I keep frontin like I don’t wanna go back to s...  \n",
       "3  @Traps_not_gay44 @socialistraptor I'll keep an...  \n",
       "4  And this moment of eternal peace  has utterly ...  "
      ]
     },
     "execution_count": 3,
     "metadata": {},
     "output_type": "execute_result"
    }
   ],
   "source": [
    "tweets_df.head()"
   ]
  },
  {
   "cell_type": "markdown",
   "metadata": {},
   "source": [
    "We now convert potential state abbreviations in the `state` field to state name in the following function"
   ]
  },
  {
   "cell_type": "code",
   "execution_count": 4,
   "metadata": {},
   "outputs": [],
   "source": [
    "us_state_abbrev = {'AL':'Alabama',\n",
    "    'AK':'Alaska',\n",
    "    'AZ':'Arizona',\n",
    "    'AR':'Arkansas',\n",
    "    'CA':'California',\n",
    "    'CO':'Colorado',\n",
    "    'CT':'Connecticut',\n",
    "    'DE':'Delaware',\n",
    "    'DC':'District of Columbia',\n",
    "    'FL':'Florida',\n",
    "    'GA':'Georgia',\n",
    "    'HI':'Hawaii',\n",
    "    'ID':'Idaho',\n",
    "    'IL':'Illinois',\n",
    "    'IN':'Indiana',\n",
    "    'IA':'Iowa',\n",
    "    'KS':'Kansas',\n",
    "    'KY':'Kentucky',\n",
    "    'LA':'Louisiana',\n",
    "    'ME':'Maine',\n",
    "    'MD':'Maryland',\n",
    "    'MA':'Massachusetts',\n",
    "    'MI':'Michigan',\n",
    "    'MN':'Minnesota',\n",
    "    'MS':'Mississippi',\n",
    "    'MO':'Missouri',\n",
    "    'MT':'Montana',\n",
    "    'NE':'Nebraska',\n",
    "    'NV':'Nevada',\n",
    "    'NH':'New Hampshire',\n",
    "    'NJ':'New Jersey',\n",
    "    'NM':'New Mexico',\n",
    "    'NY':'New York',\n",
    "    'NC':'North Carolina',\n",
    "    'ND':'North Dakota',\n",
    "    'OH':'Ohio',\n",
    "    'OK':'Oklahoma',\n",
    "    'OR':'Oregon',\n",
    "    'PA':'Pennsylvania',\n",
    "    'RI':'Rhode Island',\n",
    "    'SC':'South Carolina',\n",
    "    'SD':'South Dakota',\n",
    "    'TN':'Tennessee',\n",
    "    'TX':'Texas',\n",
    "    'UT':'Utah',\n",
    "    'VT':'Vermont',\n",
    "    'VA':'Virginia',\n",
    "    'WA':'Washington',\n",
    "    'WV':'West Virginia',\n",
    "    'WI':'Wisconsin',\n",
    "    'WY':'Wyoming'\n",
    "}"
   ]
  },
  {
   "cell_type": "code",
   "execution_count": 5,
   "metadata": {},
   "outputs": [],
   "source": [
    "def replace_states(value):\n",
    "    '''Replace state abbreviations with state names'''\n",
    "    if len(value)==2:\n",
    "        return us_state_abbrev[value]\n",
    "    else:\n",
    "        return value"
   ]
  },
  {
   "cell_type": "code",
   "execution_count": 6,
   "metadata": {},
   "outputs": [
    {
     "data": {
      "text/html": [
       "<div>\n",
       "<style scoped>\n",
       "    .dataframe tbody tr th:only-of-type {\n",
       "        vertical-align: middle;\n",
       "    }\n",
       "\n",
       "    .dataframe tbody tr th {\n",
       "        vertical-align: top;\n",
       "    }\n",
       "\n",
       "    .dataframe thead th {\n",
       "        text-align: right;\n",
       "    }\n",
       "</style>\n",
       "<table border=\"1\" class=\"dataframe\">\n",
       "  <thead>\n",
       "    <tr style=\"text-align: right;\">\n",
       "      <th></th>\n",
       "      <th>ObjectId</th>\n",
       "      <th>created_at</th>\n",
       "      <th>hashtags</th>\n",
       "      <th>party</th>\n",
       "      <th>screen_name</th>\n",
       "      <th>state</th>\n",
       "      <th>tweet_text</th>\n",
       "    </tr>\n",
       "  </thead>\n",
       "  <tbody>\n",
       "    <tr>\n",
       "      <th>0</th>\n",
       "      <td>82311</td>\n",
       "      <td>2020-08-26 00:52:01</td>\n",
       "      <td></td>\n",
       "      <td>Other</td>\n",
       "      <td>calabasas_nigga</td>\n",
       "      <td>New York</td>\n",
       "      <td>snapchat rejected three major acquisition offe...</td>\n",
       "    </tr>\n",
       "    <tr>\n",
       "      <th>1</th>\n",
       "      <td>82312</td>\n",
       "      <td>2020-08-26 00:52:01</td>\n",
       "      <td></td>\n",
       "      <td>Other</td>\n",
       "      <td>yeonblu</td>\n",
       "      <td>New York</td>\n",
       "      <td>i dont know what to say to u guys :( im really...</td>\n",
       "    </tr>\n",
       "    <tr>\n",
       "      <th>2</th>\n",
       "      <td>82313</td>\n",
       "      <td>2020-08-26 00:52:01</td>\n",
       "      <td></td>\n",
       "      <td>Other</td>\n",
       "      <td>KMD__x</td>\n",
       "      <td>New York</td>\n",
       "      <td>I keep frontin like I don’t wanna go back to s...</td>\n",
       "    </tr>\n",
       "    <tr>\n",
       "      <th>3</th>\n",
       "      <td>82314</td>\n",
       "      <td>2020-08-26 00:52:01</td>\n",
       "      <td></td>\n",
       "      <td>Other</td>\n",
       "      <td>HereticGalileo</td>\n",
       "      <td>New York</td>\n",
       "      <td>@Traps_not_gay44 @socialistraptor I'll keep an...</td>\n",
       "    </tr>\n",
       "    <tr>\n",
       "      <th>4</th>\n",
       "      <td>82315</td>\n",
       "      <td>2020-08-26 00:52:01</td>\n",
       "      <td></td>\n",
       "      <td>Other</td>\n",
       "      <td>CorruptedKai</td>\n",
       "      <td>New York</td>\n",
       "      <td>And this moment of eternal peace  has utterly ...</td>\n",
       "    </tr>\n",
       "  </tbody>\n",
       "</table>\n",
       "</div>"
      ],
      "text/plain": [
       "   ObjectId          created_at hashtags  party      screen_name     state  \\\n",
       "0     82311 2020-08-26 00:52:01           Other  calabasas_nigga  New York   \n",
       "1     82312 2020-08-26 00:52:01           Other          yeonblu  New York   \n",
       "2     82313 2020-08-26 00:52:01           Other           KMD__x  New York   \n",
       "3     82314 2020-08-26 00:52:01           Other   HereticGalileo  New York   \n",
       "4     82315 2020-08-26 00:52:01           Other     CorruptedKai  New York   \n",
       "\n",
       "                                          tweet_text  \n",
       "0  snapchat rejected three major acquisition offe...  \n",
       "1  i dont know what to say to u guys :( im really...  \n",
       "2  I keep frontin like I don’t wanna go back to s...  \n",
       "3  @Traps_not_gay44 @socialistraptor I'll keep an...  \n",
       "4  And this moment of eternal peace  has utterly ...  "
      ]
     },
     "execution_count": 6,
     "metadata": {},
     "output_type": "execute_result"
    }
   ],
   "source": [
    "tweets_df['state'] = tweets_df['state'].apply(replace_states)\n",
    "tweets_df.head()"
   ]
  },
  {
   "cell_type": "markdown",
   "metadata": {},
   "source": [
    "## 1. Extracting mentions and sentiments for tweets"
   ]
  },
  {
   "cell_type": "markdown",
   "metadata": {},
   "source": [
    "We extract the mentions (people/entities tagged) in each tweet"
   ]
  },
  {
   "cell_type": "code",
   "execution_count": 7,
   "metadata": {},
   "outputs": [
    {
     "data": {
      "text/plain": [
       "0                                   \n",
       "1                                   \n",
       "2                                   \n",
       "3    Traps_not_gay44,socialistraptor\n",
       "4                                   \n",
       "Name: mention, dtype: object"
      ]
     },
     "execution_count": 7,
     "metadata": {},
     "output_type": "execute_result"
    }
   ],
   "source": [
    "tweets_df['mention'] = tweets_df['tweet_text'].str.findall(r'(?<![@\\w])@(\\w{1,25})').apply(','.join)\n",
    "tweets_df['mention'].head()"
   ]
  },
  {
   "cell_type": "markdown",
   "metadata": {},
   "source": [
    "Using `vaderSentiment` library we now extract the sentiment score for each tweet"
   ]
  },
  {
   "cell_type": "code",
   "execution_count": 8,
   "metadata": {},
   "outputs": [],
   "source": [
    "from vaderSentiment.vaderSentiment import SentimentIntensityAnalyzer\n",
    "analyser = SentimentIntensityAnalyzer()"
   ]
  },
  {
   "cell_type": "code",
   "execution_count": 9,
   "metadata": {},
   "outputs": [],
   "source": [
    "def sentiment_analyzer(tweet):\n",
    "    '''Return the dictionary of scores for each sentiment'''\n",
    "    return analyser.polarity_scores(tweet)"
   ]
  },
  {
   "cell_type": "code",
   "execution_count": 10,
   "metadata": {},
   "outputs": [],
   "source": [
    "def sentiment_score(dict1):\n",
    "    '''Return the average sentiment for the tweet'''\n",
    "    return dict1['compound']"
   ]
  },
  {
   "cell_type": "code",
   "execution_count": 11,
   "metadata": {},
   "outputs": [
    {
     "data": {
      "text/html": [
       "<div>\n",
       "<style scoped>\n",
       "    .dataframe tbody tr th:only-of-type {\n",
       "        vertical-align: middle;\n",
       "    }\n",
       "\n",
       "    .dataframe tbody tr th {\n",
       "        vertical-align: top;\n",
       "    }\n",
       "\n",
       "    .dataframe thead th {\n",
       "        text-align: right;\n",
       "    }\n",
       "</style>\n",
       "<table border=\"1\" class=\"dataframe\">\n",
       "  <thead>\n",
       "    <tr style=\"text-align: right;\">\n",
       "      <th></th>\n",
       "      <th>ObjectId</th>\n",
       "      <th>created_at</th>\n",
       "      <th>hashtags</th>\n",
       "      <th>party</th>\n",
       "      <th>screen_name</th>\n",
       "      <th>state</th>\n",
       "      <th>tweet_text</th>\n",
       "      <th>mention</th>\n",
       "      <th>sentiment_dict</th>\n",
       "      <th>sentiment_score</th>\n",
       "    </tr>\n",
       "  </thead>\n",
       "  <tbody>\n",
       "    <tr>\n",
       "      <th>0</th>\n",
       "      <td>82311</td>\n",
       "      <td>2020-08-26 00:52:01</td>\n",
       "      <td></td>\n",
       "      <td>Other</td>\n",
       "      <td>calabasas_nigga</td>\n",
       "      <td>New York</td>\n",
       "      <td>snapchat rejected three major acquisition offe...</td>\n",
       "      <td></td>\n",
       "      <td>{'neg': 0.067, 'neu': 0.894, 'pos': 0.039, 'co...</td>\n",
       "      <td>-0.3400</td>\n",
       "    </tr>\n",
       "    <tr>\n",
       "      <th>1</th>\n",
       "      <td>82312</td>\n",
       "      <td>2020-08-26 00:52:01</td>\n",
       "      <td></td>\n",
       "      <td>Other</td>\n",
       "      <td>yeonblu</td>\n",
       "      <td>New York</td>\n",
       "      <td>i dont know what to say to u guys :( im really...</td>\n",
       "      <td></td>\n",
       "      <td>{'neg': 0.048, 'neu': 0.854, 'pos': 0.099, 'co...</td>\n",
       "      <td>0.2732</td>\n",
       "    </tr>\n",
       "    <tr>\n",
       "      <th>2</th>\n",
       "      <td>82313</td>\n",
       "      <td>2020-08-26 00:52:01</td>\n",
       "      <td></td>\n",
       "      <td>Other</td>\n",
       "      <td>KMD__x</td>\n",
       "      <td>New York</td>\n",
       "      <td>I keep frontin like I don’t wanna go back to s...</td>\n",
       "      <td></td>\n",
       "      <td>{'neg': 0.102, 'neu': 0.797, 'pos': 0.101, 'co...</td>\n",
       "      <td>-0.2617</td>\n",
       "    </tr>\n",
       "    <tr>\n",
       "      <th>3</th>\n",
       "      <td>82314</td>\n",
       "      <td>2020-08-26 00:52:01</td>\n",
       "      <td></td>\n",
       "      <td>Other</td>\n",
       "      <td>HereticGalileo</td>\n",
       "      <td>New York</td>\n",
       "      <td>@Traps_not_gay44 @socialistraptor I'll keep an...</td>\n",
       "      <td>Traps_not_gay44,socialistraptor</td>\n",
       "      <td>{'neg': 0.0, 'neu': 0.893, 'pos': 0.107, 'comp...</td>\n",
       "      <td>0.2023</td>\n",
       "    </tr>\n",
       "    <tr>\n",
       "      <th>4</th>\n",
       "      <td>82315</td>\n",
       "      <td>2020-08-26 00:52:01</td>\n",
       "      <td></td>\n",
       "      <td>Other</td>\n",
       "      <td>CorruptedKai</td>\n",
       "      <td>New York</td>\n",
       "      <td>And this moment of eternal peace  has utterly ...</td>\n",
       "      <td></td>\n",
       "      <td>{'neg': 0.193, 'neu': 0.732, 'pos': 0.075, 'co...</td>\n",
       "      <td>-0.6682</td>\n",
       "    </tr>\n",
       "  </tbody>\n",
       "</table>\n",
       "</div>"
      ],
      "text/plain": [
       "   ObjectId          created_at hashtags  party      screen_name     state  \\\n",
       "0     82311 2020-08-26 00:52:01           Other  calabasas_nigga  New York   \n",
       "1     82312 2020-08-26 00:52:01           Other          yeonblu  New York   \n",
       "2     82313 2020-08-26 00:52:01           Other           KMD__x  New York   \n",
       "3     82314 2020-08-26 00:52:01           Other   HereticGalileo  New York   \n",
       "4     82315 2020-08-26 00:52:01           Other     CorruptedKai  New York   \n",
       "\n",
       "                                          tweet_text  \\\n",
       "0  snapchat rejected three major acquisition offe...   \n",
       "1  i dont know what to say to u guys :( im really...   \n",
       "2  I keep frontin like I don’t wanna go back to s...   \n",
       "3  @Traps_not_gay44 @socialistraptor I'll keep an...   \n",
       "4  And this moment of eternal peace  has utterly ...   \n",
       "\n",
       "                           mention  \\\n",
       "0                                    \n",
       "1                                    \n",
       "2                                    \n",
       "3  Traps_not_gay44,socialistraptor   \n",
       "4                                    \n",
       "\n",
       "                                      sentiment_dict  sentiment_score  \n",
       "0  {'neg': 0.067, 'neu': 0.894, 'pos': 0.039, 'co...          -0.3400  \n",
       "1  {'neg': 0.048, 'neu': 0.854, 'pos': 0.099, 'co...           0.2732  \n",
       "2  {'neg': 0.102, 'neu': 0.797, 'pos': 0.101, 'co...          -0.2617  \n",
       "3  {'neg': 0.0, 'neu': 0.893, 'pos': 0.107, 'comp...           0.2023  \n",
       "4  {'neg': 0.193, 'neu': 0.732, 'pos': 0.075, 'co...          -0.6682  "
      ]
     },
     "execution_count": 11,
     "metadata": {},
     "output_type": "execute_result"
    }
   ],
   "source": [
    "tweets_df['sentiment_dict'] = tweets_df['tweet_text'].apply(sentiment_analyzer)\n",
    "tweets_df['sentiment_score'] = tweets_df['sentiment_dict'].apply(sentiment_score)\n",
    "tweets_df.head()"
   ]
  },
  {
   "cell_type": "code",
   "execution_count": 12,
   "metadata": {},
   "outputs": [],
   "source": [
    "import matplotlib.pyplot as plt \n",
    "import seaborn as sns\n",
    "\n",
    "#set preferences\n",
    "sns.set(color_codes=True)"
   ]
  },
  {
   "cell_type": "markdown",
   "metadata": {},
   "source": [
    "Having extracted sentiments for each tweet, we now visualize the general sentiment distribution"
   ]
  },
  {
   "cell_type": "code",
   "execution_count": 13,
   "metadata": {},
   "outputs": [
    {
     "data": {
      "image/png": "[encoded data removed]",
      "text/plain": [
       "<Figure size 720x432 with 1 Axes>"
      ]
     },
     "metadata": {},
     "output_type": "display_data"
    }
   ],
   "source": [
    "num_bins = 50\n",
    "plt.figure(figsize=(10,6))\n",
    "n, bins, patches = plt.hist(tweets_df['sentiment_score'], num_bins, facecolor='blue', alpha=0.6)\n",
    "plt.xlabel('Sentiment score')\n",
    "plt.ylabel('Count')\n",
    "plt.title('Histogram of sentiment score')\n",
    "plt.show();"
   ]
  },
  {
   "cell_type": "markdown",
   "metadata": {},
   "source": [
    "## 2. Extract tokens for each tweet"
   ]
  },
  {
   "cell_type": "code",
   "execution_count": 14,
   "metadata": {},
   "outputs": [
    {
     "name": "stderr",
     "output_type": "stream",
     "text": [
      "[nltk_data] Downloading package punkt to\n",
      "[nltk_data]     C:\\Users\\manu9321\\AppData\\Roaming\\nltk_data...\n",
      "[nltk_data]   Package punkt is already up-to-date!\n"
     ]
    },
    {
     "data": {
      "text/plain": [
       "True"
      ]
     },
     "execution_count": 14,
     "metadata": {},
     "output_type": "execute_result"
    }
   ],
   "source": [
    "from nltk.tokenize import word_tokenize\n",
    "import pandas as pd\n",
    "\n",
    "import nltk\n",
    "nltk.download('punkt')"
   ]
  },
  {
   "cell_type": "code",
   "execution_count": 15,
   "metadata": {},
   "outputs": [
    {
     "data": {
      "text/plain": [
       "0    [snapchat, rejected, three, major, acquisition...\n",
       "1    [i, dont, know, what, to, say, to, u, guys, :,...\n",
       "2    [I, keep, frontin, like, I, don, ’, t, wan, na...\n",
       "3    [@, Traps_not_gay44, @, socialistraptor, I, 'l...\n",
       "4    [And, this, moment, of, eternal, peace, has, u...\n",
       "Name: tokens, dtype: object"
      ]
     },
     "execution_count": 15,
     "metadata": {},
     "output_type": "execute_result"
    }
   ],
   "source": [
    "tweets_df['tokens'] = tweets_df['tweet_text'].apply(word_tokenize)\n",
    "tweets_df['tokens'].head()"
   ]
  },
  {
   "cell_type": "code",
   "execution_count": 16,
   "metadata": {},
   "outputs": [
    {
     "name": "stderr",
     "output_type": "stream",
     "text": [
      "[nltk_data] Downloading package stopwords to\n",
      "[nltk_data]     C:\\Users\\manu9321\\AppData\\Roaming\\nltk_data...\n",
      "[nltk_data]   Package stopwords is already up-to-date!\n"
     ]
    },
    {
     "data": {
      "text/plain": [
       "True"
      ]
     },
     "execution_count": 16,
     "metadata": {},
     "output_type": "execute_result"
    }
   ],
   "source": [
    "nltk.download('stopwords')"
   ]
  },
  {
   "cell_type": "code",
   "execution_count": 17,
   "metadata": {},
   "outputs": [],
   "source": [
    "from nltk.corpus import stopwords\n",
    "english_stopwords = set(stopwords.words('english'))"
   ]
  },
  {
   "cell_type": "markdown",
   "metadata": {},
   "source": [
    "We write a method to remove stopwords (e.g. 'this', 'a', 'to') etc from our tokens. We also add a few others, specific to our data"
   ]
  },
  {
   "cell_type": "code",
   "execution_count": 18,
   "metadata": {},
   "outputs": [],
   "source": [
    "def clean_tokens(tokens):\n",
    "    '''Remove punctuation and stopwords from tokens'''\n",
    "    english_stopwords.add('http')\n",
    "    english_stopwords.add('https')\n",
    "    english_stopwords.add('amp')\n",
    "    tokens1 = [word for word in tokens if word.isalnum()]\n",
    "    return [x for x in tokens1 if x.lower() not in english_stopwords]"
   ]
  },
  {
   "cell_type": "code",
   "execution_count": 19,
   "metadata": {},
   "outputs": [
    {
     "data": {
      "text/plain": [
       "0    [snapchat, rejected, three, major, acquisition...\n",
       "1    [dont, know, say, u, guys, im, really, gon, na...\n",
       "2    [keep, frontin, like, wan, na, go, back, schoo...\n",
       "3    [socialistraptor, keep, eye, open, important, ...\n",
       "4    [moment, eternal, peace, utterly, shattered, l...\n",
       "Name: cleaned_tokens, dtype: object"
      ]
     },
     "execution_count": 19,
     "metadata": {},
     "output_type": "execute_result"
    }
   ],
   "source": [
    "tweets_df['cleaned_tokens'] = tweets_df['tokens'].apply(clean_tokens)\n",
    "tweets_df['cleaned_tokens'].head()"
   ]
  },
  {
   "cell_type": "code",
   "execution_count": 20,
   "metadata": {},
   "outputs": [
    {
     "data": {
      "text/html": [
       "<div>\n",
       "<style scoped>\n",
       "    .dataframe tbody tr th:only-of-type {\n",
       "        vertical-align: middle;\n",
       "    }\n",
       "\n",
       "    .dataframe tbody tr th {\n",
       "        vertical-align: top;\n",
       "    }\n",
       "\n",
       "    .dataframe thead th {\n",
       "        text-align: right;\n",
       "    }\n",
       "</style>\n",
       "<table border=\"1\" class=\"dataframe\">\n",
       "  <thead>\n",
       "    <tr style=\"text-align: right;\">\n",
       "      <th></th>\n",
       "      <th>ObjectId</th>\n",
       "      <th>created_at</th>\n",
       "      <th>hashtags</th>\n",
       "      <th>party</th>\n",
       "      <th>screen_name</th>\n",
       "      <th>state</th>\n",
       "      <th>tweet_text</th>\n",
       "      <th>mention</th>\n",
       "      <th>sentiment_dict</th>\n",
       "      <th>sentiment_score</th>\n",
       "      <th>tokens</th>\n",
       "      <th>cleaned_tokens</th>\n",
       "    </tr>\n",
       "  </thead>\n",
       "  <tbody>\n",
       "    <tr>\n",
       "      <th>0</th>\n",
       "      <td>82311</td>\n",
       "      <td>2020-08-26 00:52:01</td>\n",
       "      <td></td>\n",
       "      <td>Other</td>\n",
       "      <td>calabasas_nigga</td>\n",
       "      <td>New York</td>\n",
       "      <td>snapchat rejected three major acquisition offe...</td>\n",
       "      <td></td>\n",
       "      <td>{'neg': 0.067, 'neu': 0.894, 'pos': 0.039, 'co...</td>\n",
       "      <td>-0.3400</td>\n",
       "      <td>[snapchat, rejected, three, major, acquisition...</td>\n",
       "      <td>[snapchat, rejected, three, major, acquisition...</td>\n",
       "    </tr>\n",
       "    <tr>\n",
       "      <th>1</th>\n",
       "      <td>82312</td>\n",
       "      <td>2020-08-26 00:52:01</td>\n",
       "      <td></td>\n",
       "      <td>Other</td>\n",
       "      <td>yeonblu</td>\n",
       "      <td>New York</td>\n",
       "      <td>i dont know what to say to u guys :( im really...</td>\n",
       "      <td></td>\n",
       "      <td>{'neg': 0.048, 'neu': 0.854, 'pos': 0.099, 'co...</td>\n",
       "      <td>0.2732</td>\n",
       "      <td>[i, dont, know, what, to, say, to, u, guys, :,...</td>\n",
       "      <td>[dont, know, say, u, guys, im, really, gon, na...</td>\n",
       "    </tr>\n",
       "    <tr>\n",
       "      <th>2</th>\n",
       "      <td>82313</td>\n",
       "      <td>2020-08-26 00:52:01</td>\n",
       "      <td></td>\n",
       "      <td>Other</td>\n",
       "      <td>KMD__x</td>\n",
       "      <td>New York</td>\n",
       "      <td>I keep frontin like I don’t wanna go back to s...</td>\n",
       "      <td></td>\n",
       "      <td>{'neg': 0.102, 'neu': 0.797, 'pos': 0.101, 'co...</td>\n",
       "      <td>-0.2617</td>\n",
       "      <td>[I, keep, frontin, like, I, don, ’, t, wan, na...</td>\n",
       "      <td>[keep, frontin, like, wan, na, go, back, schoo...</td>\n",
       "    </tr>\n",
       "    <tr>\n",
       "      <th>3</th>\n",
       "      <td>82314</td>\n",
       "      <td>2020-08-26 00:52:01</td>\n",
       "      <td></td>\n",
       "      <td>Other</td>\n",
       "      <td>HereticGalileo</td>\n",
       "      <td>New York</td>\n",
       "      <td>@Traps_not_gay44 @socialistraptor I'll keep an...</td>\n",
       "      <td>Traps_not_gay44,socialistraptor</td>\n",
       "      <td>{'neg': 0.0, 'neu': 0.893, 'pos': 0.107, 'comp...</td>\n",
       "      <td>0.2023</td>\n",
       "      <td>[@, Traps_not_gay44, @, socialistraptor, I, 'l...</td>\n",
       "      <td>[socialistraptor, keep, eye, open, important, ...</td>\n",
       "    </tr>\n",
       "    <tr>\n",
       "      <th>4</th>\n",
       "      <td>82315</td>\n",
       "      <td>2020-08-26 00:52:01</td>\n",
       "      <td></td>\n",
       "      <td>Other</td>\n",
       "      <td>CorruptedKai</td>\n",
       "      <td>New York</td>\n",
       "      <td>And this moment of eternal peace  has utterly ...</td>\n",
       "      <td></td>\n",
       "      <td>{'neg': 0.193, 'neu': 0.732, 'pos': 0.075, 'co...</td>\n",
       "      <td>-0.6682</td>\n",
       "      <td>[And, this, moment, of, eternal, peace, has, u...</td>\n",
       "      <td>[moment, eternal, peace, utterly, shattered, l...</td>\n",
       "    </tr>\n",
       "  </tbody>\n",
       "</table>\n",
       "</div>"
      ],
      "text/plain": [
       "   ObjectId          created_at hashtags  party      screen_name     state  \\\n",
       "0     82311 2020-08-26 00:52:01           Other  calabasas_nigga  New York   \n",
       "1     82312 2020-08-26 00:52:01           Other          yeonblu  New York   \n",
       "2     82313 2020-08-26 00:52:01           Other           KMD__x  New York   \n",
       "3     82314 2020-08-26 00:52:01           Other   HereticGalileo  New York   \n",
       "4     82315 2020-08-26 00:52:01           Other     CorruptedKai  New York   \n",
       "\n",
       "                                          tweet_text  \\\n",
       "0  snapchat rejected three major acquisition offe...   \n",
       "1  i dont know what to say to u guys :( im really...   \n",
       "2  I keep frontin like I don’t wanna go back to s...   \n",
       "3  @Traps_not_gay44 @socialistraptor I'll keep an...   \n",
       "4  And this moment of eternal peace  has utterly ...   \n",
       "\n",
       "                           mention  \\\n",
       "0                                    \n",
       "1                                    \n",
       "2                                    \n",
       "3  Traps_not_gay44,socialistraptor   \n",
       "4                                    \n",
       "\n",
       "                                      sentiment_dict  sentiment_score  \\\n",
       "0  {'neg': 0.067, 'neu': 0.894, 'pos': 0.039, 'co...          -0.3400   \n",
       "1  {'neg': 0.048, 'neu': 0.854, 'pos': 0.099, 'co...           0.2732   \n",
       "2  {'neg': 0.102, 'neu': 0.797, 'pos': 0.101, 'co...          -0.2617   \n",
       "3  {'neg': 0.0, 'neu': 0.893, 'pos': 0.107, 'comp...           0.2023   \n",
       "4  {'neg': 0.193, 'neu': 0.732, 'pos': 0.075, 'co...          -0.6682   \n",
       "\n",
       "                                              tokens  \\\n",
       "0  [snapchat, rejected, three, major, acquisition...   \n",
       "1  [i, dont, know, what, to, say, to, u, guys, :,...   \n",
       "2  [I, keep, frontin, like, I, don, ’, t, wan, na...   \n",
       "3  [@, Traps_not_gay44, @, socialistraptor, I, 'l...   \n",
       "4  [And, this, moment, of, eternal, peace, has, u...   \n",
       "\n",
       "                                      cleaned_tokens  \n",
       "0  [snapchat, rejected, three, major, acquisition...  \n",
       "1  [dont, know, say, u, guys, im, really, gon, na...  \n",
       "2  [keep, frontin, like, wan, na, go, back, schoo...  \n",
       "3  [socialistraptor, keep, eye, open, important, ...  \n",
       "4  [moment, eternal, peace, utterly, shattered, l...  "
      ]
     },
     "execution_count": 20,
     "metadata": {},
     "output_type": "execute_result"
    }
   ],
   "source": [
    "tweets_df.head()"
   ]
  },
  {
   "cell_type": "markdown",
   "metadata": {},
   "source": [
    "## 3. Compute stats for each state"
   ]
  },
  {
   "cell_type": "code",
   "execution_count": 21,
   "metadata": {},
   "outputs": [
    {
     "data": {
      "text/plain": [
       "(51, 8)"
      ]
     },
     "execution_count": 21,
     "metadata": {},
     "output_type": "execute_result"
    }
   ],
   "source": [
    "states_url = 'https://services1.arcgis.com/99lidPhWCzftIe9K/arcgis/rest/services/USStates/FeatureServer/0'\n",
    "states_layer = FeatureLayer(states_url)\n",
    "states_df = states_layer.query(as_df=True)\n",
    "states_df.shape"
   ]
  },
  {
   "cell_type": "code",
   "execution_count": 22,
   "metadata": {},
   "outputs": [
    {
     "data": {
      "text/html": [
       "<div>\n",
       "<style scoped>\n",
       "    .dataframe tbody tr th:only-of-type {\n",
       "        vertical-align: middle;\n",
       "    }\n",
       "\n",
       "    .dataframe tbody tr th {\n",
       "        vertical-align: top;\n",
       "    }\n",
       "\n",
       "    .dataframe thead th {\n",
       "        text-align: right;\n",
       "    }\n",
       "</style>\n",
       "<table border=\"1\" class=\"dataframe\">\n",
       "  <thead>\n",
       "    <tr style=\"text-align: right;\">\n",
       "      <th></th>\n",
       "      <th>OBJECTID</th>\n",
       "      <th>OBJECTID_1</th>\n",
       "      <th>SHAPE</th>\n",
       "      <th>STATE_ABBR</th>\n",
       "      <th>STATE_FIPS</th>\n",
       "      <th>STATE_NAME</th>\n",
       "      <th>Shape__Area</th>\n",
       "      <th>Shape__Length</th>\n",
       "    </tr>\n",
       "  </thead>\n",
       "  <tbody>\n",
       "    <tr>\n",
       "      <th>0</th>\n",
       "      <td>1</td>\n",
       "      <td>1</td>\n",
       "      <td>{\"rings\": [[[-9848795.1956, 3749386.4234], [-9...</td>\n",
       "      <td>AL</td>\n",
       "      <td>01</td>\n",
       "      <td>Alabama</td>\n",
       "      <td>1.899684e+11</td>\n",
       "      <td>2.506745e+06</td>\n",
       "    </tr>\n",
       "    <tr>\n",
       "      <th>1</th>\n",
       "      <td>2</td>\n",
       "      <td>2</td>\n",
       "      <td>{\"rings\": [[[-16280479.1337, 11068714.8191], [...</td>\n",
       "      <td>AK</td>\n",
       "      <td>02</td>\n",
       "      <td>Alaska</td>\n",
       "      <td>4.864666e+12</td>\n",
       "      <td>4.827816e+07</td>\n",
       "    </tr>\n",
       "    <tr>\n",
       "      <th>2</th>\n",
       "      <td>3</td>\n",
       "      <td>3</td>\n",
       "      <td>{\"rings\": [[[-12781025.0556, 3828631.1485], [-...</td>\n",
       "      <td>AZ</td>\n",
       "      <td>04</td>\n",
       "      <td>Arizona</td>\n",
       "      <td>4.341107e+11</td>\n",
       "      <td>2.907332e+06</td>\n",
       "    </tr>\n",
       "    <tr>\n",
       "      <th>3</th>\n",
       "      <td>4</td>\n",
       "      <td>4</td>\n",
       "      <td>{\"rings\": [[[-10531500.4946, 4369567.5414], [-...</td>\n",
       "      <td>AR</td>\n",
       "      <td>05</td>\n",
       "      <td>Arkansas</td>\n",
       "      <td>2.053290e+11</td>\n",
       "      <td>2.652242e+06</td>\n",
       "    </tr>\n",
       "    <tr>\n",
       "      <th>4</th>\n",
       "      <td>5</td>\n",
       "      <td>5</td>\n",
       "      <td>{\"rings\": [[[-13829195.0781, 4967239.458], [-1...</td>\n",
       "      <td>CA</td>\n",
       "      <td>06</td>\n",
       "      <td>California</td>\n",
       "      <td>6.496358e+11</td>\n",
       "      <td>6.856510e+06</td>\n",
       "    </tr>\n",
       "  </tbody>\n",
       "</table>\n",
       "</div>"
      ],
      "text/plain": [
       "   OBJECTID  OBJECTID_1                                              SHAPE  \\\n",
       "0         1           1  {\"rings\": [[[-9848795.1956, 3749386.4234], [-9...   \n",
       "1         2           2  {\"rings\": [[[-16280479.1337, 11068714.8191], [...   \n",
       "2         3           3  {\"rings\": [[[-12781025.0556, 3828631.1485], [-...   \n",
       "3         4           4  {\"rings\": [[[-10531500.4946, 4369567.5414], [-...   \n",
       "4         5           5  {\"rings\": [[[-13829195.0781, 4967239.458], [-1...   \n",
       "\n",
       "  STATE_ABBR STATE_FIPS  STATE_NAME   Shape__Area  Shape__Length  \n",
       "0         AL         01     Alabama  1.899684e+11   2.506745e+06  \n",
       "1         AK         02      Alaska  4.864666e+12   4.827816e+07  \n",
       "2         AZ         04     Arizona  4.341107e+11   2.907332e+06  \n",
       "3         AR         05    Arkansas  2.053290e+11   2.652242e+06  \n",
       "4         CA         06  California  6.496358e+11   6.856510e+06  "
      ]
     },
     "execution_count": 22,
     "metadata": {},
     "output_type": "execute_result"
    }
   ],
   "source": [
    "states_df.head()"
   ]
  },
  {
   "cell_type": "code",
   "execution_count": 23,
   "metadata": {},
   "outputs": [
    {
     "data": {
      "text/html": [
       "<div>\n",
       "<style scoped>\n",
       "    .dataframe tbody tr th:only-of-type {\n",
       "        vertical-align: middle;\n",
       "    }\n",
       "\n",
       "    .dataframe tbody tr th {\n",
       "        vertical-align: top;\n",
       "    }\n",
       "\n",
       "    .dataframe thead th {\n",
       "        text-align: right;\n",
       "    }\n",
       "</style>\n",
       "<table border=\"1\" class=\"dataframe\">\n",
       "  <thead>\n",
       "    <tr style=\"text-align: right;\">\n",
       "      <th></th>\n",
       "      <th>state</th>\n",
       "      <th>party</th>\n",
       "      <th>mention</th>\n",
       "      <th>hashtags</th>\n",
       "      <th>sentiment_score</th>\n",
       "      <th>cleaned_tokens</th>\n",
       "    </tr>\n",
       "  </thead>\n",
       "  <tbody>\n",
       "    <tr>\n",
       "      <th>0</th>\n",
       "      <td>New York</td>\n",
       "      <td>Other</td>\n",
       "      <td></td>\n",
       "      <td></td>\n",
       "      <td>-0.3400</td>\n",
       "      <td>[snapchat, rejected, three, major, acquisition...</td>\n",
       "    </tr>\n",
       "    <tr>\n",
       "      <th>1</th>\n",
       "      <td>New York</td>\n",
       "      <td>Other</td>\n",
       "      <td></td>\n",
       "      <td></td>\n",
       "      <td>0.2732</td>\n",
       "      <td>[dont, know, say, u, guys, im, really, gon, na...</td>\n",
       "    </tr>\n",
       "    <tr>\n",
       "      <th>2</th>\n",
       "      <td>New York</td>\n",
       "      <td>Other</td>\n",
       "      <td></td>\n",
       "      <td></td>\n",
       "      <td>-0.2617</td>\n",
       "      <td>[keep, frontin, like, wan, na, go, back, schoo...</td>\n",
       "    </tr>\n",
       "    <tr>\n",
       "      <th>3</th>\n",
       "      <td>New York</td>\n",
       "      <td>Other</td>\n",
       "      <td>Traps_not_gay44,socialistraptor</td>\n",
       "      <td></td>\n",
       "      <td>0.2023</td>\n",
       "      <td>[socialistraptor, keep, eye, open, important, ...</td>\n",
       "    </tr>\n",
       "    <tr>\n",
       "      <th>4</th>\n",
       "      <td>New York</td>\n",
       "      <td>Other</td>\n",
       "      <td></td>\n",
       "      <td></td>\n",
       "      <td>-0.6682</td>\n",
       "      <td>[moment, eternal, peace, utterly, shattered, l...</td>\n",
       "    </tr>\n",
       "  </tbody>\n",
       "</table>\n",
       "</div>"
      ],
      "text/plain": [
       "      state  party                          mention hashtags  sentiment_score  \\\n",
       "0  New York  Other                                                    -0.3400   \n",
       "1  New York  Other                                                     0.2732   \n",
       "2  New York  Other                                                    -0.2617   \n",
       "3  New York  Other  Traps_not_gay44,socialistraptor                    0.2023   \n",
       "4  New York  Other                                                    -0.6682   \n",
       "\n",
       "                                      cleaned_tokens  \n",
       "0  [snapchat, rejected, three, major, acquisition...  \n",
       "1  [dont, know, say, u, guys, im, really, gon, na...  \n",
       "2  [keep, frontin, like, wan, na, go, back, schoo...  \n",
       "3  [socialistraptor, keep, eye, open, important, ...  \n",
       "4  [moment, eternal, peace, utterly, shattered, l...  "
      ]
     },
     "execution_count": 23,
     "metadata": {},
     "output_type": "execute_result"
    }
   ],
   "source": [
    "filtered_tweets = tweets_df[['state', 'party', 'mention', 'hashtags', 'sentiment_score', 'cleaned_tokens']]\n",
    "filtered_tweets.head()"
   ]
  },
  {
   "cell_type": "code",
   "execution_count": 24,
   "metadata": {},
   "outputs": [
    {
     "data": {
      "text/html": [
       "<div>\n",
       "<style scoped>\n",
       "    .dataframe tbody tr th:only-of-type {\n",
       "        vertical-align: middle;\n",
       "    }\n",
       "\n",
       "    .dataframe tbody tr th {\n",
       "        vertical-align: top;\n",
       "    }\n",
       "\n",
       "    .dataframe thead th {\n",
       "        text-align: right;\n",
       "    }\n",
       "</style>\n",
       "<table border=\"1\" class=\"dataframe\">\n",
       "  <thead>\n",
       "    <tr style=\"text-align: right;\">\n",
       "      <th></th>\n",
       "      <th>state</th>\n",
       "      <th>mention</th>\n",
       "      <th>hashtags</th>\n",
       "      <th>sentiment_score</th>\n",
       "      <th>cleaned_tokens</th>\n",
       "      <th>party_D</th>\n",
       "      <th>party_I</th>\n",
       "      <th>party_Other</th>\n",
       "      <th>party_R</th>\n",
       "    </tr>\n",
       "  </thead>\n",
       "  <tbody>\n",
       "    <tr>\n",
       "      <th>0</th>\n",
       "      <td>New York</td>\n",
       "      <td></td>\n",
       "      <td></td>\n",
       "      <td>-0.3400</td>\n",
       "      <td>[snapchat, rejected, three, major, acquisition...</td>\n",
       "      <td>0</td>\n",
       "      <td>0</td>\n",
       "      <td>1</td>\n",
       "      <td>0</td>\n",
       "    </tr>\n",
       "    <tr>\n",
       "      <th>1</th>\n",
       "      <td>New York</td>\n",
       "      <td></td>\n",
       "      <td></td>\n",
       "      <td>0.2732</td>\n",
       "      <td>[dont, know, say, u, guys, im, really, gon, na...</td>\n",
       "      <td>0</td>\n",
       "      <td>0</td>\n",
       "      <td>1</td>\n",
       "      <td>0</td>\n",
       "    </tr>\n",
       "    <tr>\n",
       "      <th>2</th>\n",
       "      <td>New York</td>\n",
       "      <td></td>\n",
       "      <td></td>\n",
       "      <td>-0.2617</td>\n",
       "      <td>[keep, frontin, like, wan, na, go, back, schoo...</td>\n",
       "      <td>0</td>\n",
       "      <td>0</td>\n",
       "      <td>1</td>\n",
       "      <td>0</td>\n",
       "    </tr>\n",
       "    <tr>\n",
       "      <th>3</th>\n",
       "      <td>New York</td>\n",
       "      <td>Traps_not_gay44,socialistraptor</td>\n",
       "      <td></td>\n",
       "      <td>0.2023</td>\n",
       "      <td>[socialistraptor, keep, eye, open, important, ...</td>\n",
       "      <td>0</td>\n",
       "      <td>0</td>\n",
       "      <td>1</td>\n",
       "      <td>0</td>\n",
       "    </tr>\n",
       "    <tr>\n",
       "      <th>4</th>\n",
       "      <td>New York</td>\n",
       "      <td></td>\n",
       "      <td></td>\n",
       "      <td>-0.6682</td>\n",
       "      <td>[moment, eternal, peace, utterly, shattered, l...</td>\n",
       "      <td>0</td>\n",
       "      <td>0</td>\n",
       "      <td>1</td>\n",
       "      <td>0</td>\n",
       "    </tr>\n",
       "  </tbody>\n",
       "</table>\n",
       "</div>"
      ],
      "text/plain": [
       "      state                          mention hashtags  sentiment_score  \\\n",
       "0  New York                                                    -0.3400   \n",
       "1  New York                                                     0.2732   \n",
       "2  New York                                                    -0.2617   \n",
       "3  New York  Traps_not_gay44,socialistraptor                    0.2023   \n",
       "4  New York                                                    -0.6682   \n",
       "\n",
       "                                      cleaned_tokens  party_D  party_I  \\\n",
       "0  [snapchat, rejected, three, major, acquisition...        0        0   \n",
       "1  [dont, know, say, u, guys, im, really, gon, na...        0        0   \n",
       "2  [keep, frontin, like, wan, na, go, back, schoo...        0        0   \n",
       "3  [socialistraptor, keep, eye, open, important, ...        0        0   \n",
       "4  [moment, eternal, peace, utterly, shattered, l...        0        0   \n",
       "\n",
       "   party_Other  party_R  \n",
       "0            1        0  \n",
       "1            1        0  \n",
       "2            1        0  \n",
       "3            1        0  \n",
       "4            1        0  "
      ]
     },
     "execution_count": 24,
     "metadata": {},
     "output_type": "execute_result"
    }
   ],
   "source": [
    "filtered_tweets = pd.get_dummies(filtered_tweets, columns=['party'], prefix=['party'])\n",
    "filtered_tweets.head()"
   ]
  },
  {
   "cell_type": "code",
   "execution_count": null,
   "metadata": {},
   "outputs": [],
   "source": [
    "state_group = filtered_tweets.groupby('state').agg({'party_D':'sum', 'party_R':'sum', 'party_I':'sum', 'party_Other':'sum', 'sentiment_score':'median', 'mention': ' '.join, 'hashtags': ' '.join, 'cleaned_tokens': 'sum'})"
   ]
  },
  {
   "cell_type": "markdown",
   "metadata": {},
   "source": [
    "## 4. Find most frequently occuring mention and hashtag for each state\n",
    "\n",
    "We write a method that can be used to extract the mention and hashtag used more frequently for each state"
   ]
  },
  {
   "cell_type": "code",
   "execution_count": null,
   "metadata": {},
   "outputs": [],
   "source": [
    "from collections import Counter"
   ]
  },
  {
   "cell_type": "code",
   "execution_count": null,
   "metadata": {},
   "outputs": [],
   "source": [
    "def most_frequent_word(sequence):\n",
    "    '''Extract the most freqently occuring word from a sequence (string) of words'''\n",
    "    try:\n",
    "        tokens = word_tokenize(sequence)\n",
    "        tokens = [word for word in tokens if word.isalnum()]\n",
    "        occurence_count = Counter(tokens) \n",
    "        return occurence_count.most_common(1)[0][0]\n",
    "    except:\n",
    "        return ''"
   ]
  },
  {
   "cell_type": "code",
   "execution_count": null,
   "metadata": {},
   "outputs": [],
   "source": [
    "state_group['freq_mention'] = state_group['mention'].apply(most_frequent_word)\n",
    "state_group['freq_hashtag'] = state_group['hashtags'].apply(most_frequent_word)"
   ]
  },
  {
   "cell_type": "code",
   "execution_count": null,
   "metadata": {},
   "outputs": [],
   "source": [
    "state_group.head()"
   ]
  },
  {
   "cell_type": "markdown",
   "metadata": {},
   "source": [
    "## 5. Extract the 5 most frequently used words/topics for each state\n",
    "\n",
    "First we lemmatize each word, i.e extract the root for each word to equalize them. E.g. Running, ran, runner will all be reduced to the root word _run_"
   ]
  },
  {
   "cell_type": "code",
   "execution_count": null,
   "metadata": {},
   "outputs": [],
   "source": [
    "nltk.download('wordnet')"
   ]
  },
  {
   "cell_type": "code",
   "execution_count": null,
   "metadata": {},
   "outputs": [],
   "source": [
    "from nltk.corpus import wordnet as wn"
   ]
  },
  {
   "cell_type": "code",
   "execution_count": null,
   "metadata": {},
   "outputs": [],
   "source": [
    "def get_lemma(word):\n",
    "    '''Return root of each word'''\n",
    "    lemma = wn.morphy(word)\n",
    "    if lemma is None:\n",
    "        return word\n",
    "    else:\n",
    "        return lemma\n",
    "\n",
    "def lemmatize_tokens(tokens):\n",
    "    '''Return cleaned tokens in their root form'''\n",
    "    return [get_lemma(token).lower() for token in tokens]"
   ]
  },
  {
   "cell_type": "code",
   "execution_count": null,
   "metadata": {},
   "outputs": [],
   "source": [
    "state_group['token_root_words'] = state_group['cleaned_tokens'].apply(lemmatize_tokens)"
   ]
  },
  {
   "cell_type": "markdown",
   "metadata": {},
   "source": [
    "We now use these lemmatized tokens to extract the 10 most frequent words/topics with frequency of each"
   ]
  },
  {
   "cell_type": "code",
   "execution_count": null,
   "metadata": {},
   "outputs": [],
   "source": [
    "from nltk.probability import FreqDist"
   ]
  },
  {
   "cell_type": "code",
   "execution_count": null,
   "metadata": {},
   "outputs": [],
   "source": [
    "def frequent_words_for_state(token_roots):\n",
    "    '''Return the 10 most frequent words in tweets for each state'''\n",
    "    return FreqDist(token_roots).most_common(10)"
   ]
  },
  {
   "cell_type": "code",
   "execution_count": null,
   "metadata": {},
   "outputs": [],
   "source": [
    "state_group['freq_10_words'] = state_group['token_root_words'].apply(frequent_words_for_state)\n",
    "state_group.head()"
   ]
  },
  {
   "cell_type": "code",
   "execution_count": null,
   "metadata": {},
   "outputs": [],
   "source": [
    "states_twitter = states_df.merge(right=state_group, left_on='STATE_NAME', right_on='state')\n",
    "states_twitter.shape"
   ]
  },
  {
   "cell_type": "code",
   "execution_count": null,
   "metadata": {},
   "outputs": [],
   "source": [
    "def split_freq_words(list1):\n",
    "    result = ''\n",
    "    for item in list1:\n",
    "        result = result + item[0] + ', '\n",
    "    return result"
   ]
  },
  {
   "cell_type": "code",
   "execution_count": null,
   "metadata": {},
   "outputs": [],
   "source": [
    "states_twitter['freq_words'] = states_twitter['freq_10_words'].apply(split_freq_words)"
   ]
  },
  {
   "cell_type": "code",
   "execution_count": null,
   "metadata": {},
   "outputs": [],
   "source": [
    "states_twitter['freq_words'].head()"
   ]
  },
  {
   "cell_type": "code",
   "execution_count": null,
   "metadata": {},
   "outputs": [],
   "source": [
    "states_twitter_data = states_twitter[['STATE_FIPS',\n",
    "       'STATE_NAME', 'party_D', 'party_R', 'party_I', 'party_Other',\n",
    "       'sentiment_score', 'freq_mention', 'freq_hashtag', 'freq_words']]"
   ]
  },
  {
   "cell_type": "code",
   "execution_count": null,
   "metadata": {},
   "outputs": [],
   "source": [
    "states_twitter_data.to_csv('tweets_analyzed.csv')"
   ]
  }
 ],
 "metadata": {
  "kernelspec": {
   "display_name": "Python 3",
   "language": "python",
   "name": "python3"
  },
  "language_info": {
   "codemirror_mode": {
    "name": "ipython",
    "version": 3
   },
   "file_extension": ".py",
   "mimetype": "text/x-python",
   "name": "python",
   "nbconvert_exporter": "python",
   "pygments_lexer": "ipython3",
   "version": "3.7.1"
  }
 },
 "nbformat": 4,
 "nbformat_minor": 2
}
