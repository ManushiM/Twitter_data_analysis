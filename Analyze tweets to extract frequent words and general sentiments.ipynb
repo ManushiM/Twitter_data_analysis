{
 "cells": [
  {
   "cell_type": "code",
   "execution_count": 1,
   "metadata": {},
   "outputs": [
    {
     "name": "stdout",
     "output_type": "stream",
     "text": [
      "Enter password: ········\n"
     ]
    }
   ],
   "source": [
    "from arcgis.gis import GIS\n",
    "from arcgis.features import FeatureLayer\n",
    "gis = GIS(\"https://ourcommunity.maps.arcgis.com\", \"MMajumdar_ourcommunity\")"
   ]
  },
  {
   "cell_type": "markdown",
   "metadata": {},
   "source": [
    "We read in the twitter data scraped and stored in a FeatureLayer. [Here](https://github.com/Jwmazzi/twitter_agol) is the Github repository for the script that scrapes this data"
   ]
  },
  {
   "cell_type": "code",
   "execution_count": 2,
   "metadata": {},
   "outputs": [
    {
     "data": {
      "text/plain": [
       "(16954, 7)"
      ]
     },
     "execution_count": 2,
     "metadata": {},
     "output_type": "execute_result"
    }
   ],
   "source": [
    "tweets_item = gis.content.get('e441d3f5e13b412299418034d1fb0eba')\n",
    "tweets_layer = FeatureLayer(tweets_item.url+'/0')\n",
    "tweets_features = tweets_layer.query(out_fields='tweet_text, hashtags, screen_name, state, party, created_at')\n",
    "tweets_df = tweets_features.sdf\n",
    "tweets_df.shape"
   ]
  },
  {
   "cell_type": "code",
   "execution_count": 3,
   "metadata": {},
   "outputs": [
    {
     "data": {
      "text/html": [
       "<div>\n",
       "<style scoped>\n",
       "    .dataframe tbody tr th:only-of-type {\n",
       "        vertical-align: middle;\n",
       "    }\n",
       "\n",
       "    .dataframe tbody tr th {\n",
       "        vertical-align: top;\n",
       "    }\n",
       "\n",
       "    .dataframe thead th {\n",
       "        text-align: right;\n",
       "    }\n",
       "</style>\n",
       "<table border=\"1\" class=\"dataframe\">\n",
       "  <thead>\n",
       "    <tr style=\"text-align: right;\">\n",
       "      <th></th>\n",
       "      <th>ObjectId</th>\n",
       "      <th>tweet_text</th>\n",
       "      <th>hashtags</th>\n",
       "      <th>screen_name</th>\n",
       "      <th>state</th>\n",
       "      <th>party</th>\n",
       "      <th>created_at</th>\n",
       "    </tr>\n",
       "  </thead>\n",
       "  <tbody>\n",
       "    <tr>\n",
       "      <th>0</th>\n",
       "      <td>1261651</td>\n",
       "      <td>I don’t understand how can I go from that to T...</td>\n",
       "      <td></td>\n",
       "      <td>meganewifey</td>\n",
       "      <td>Michigan</td>\n",
       "      <td>Other</td>\n",
       "      <td>2020-10-31 07:05:41</td>\n",
       "    </tr>\n",
       "    <tr>\n",
       "      <th>1</th>\n",
       "      <td>1261652</td>\n",
       "      <td>Hope voters  of Bihar will not trapped under d...</td>\n",
       "      <td></td>\n",
       "      <td>bpratap62071421</td>\n",
       "      <td>Michigan</td>\n",
       "      <td>Other</td>\n",
       "      <td>2020-10-31 07:05:41</td>\n",
       "    </tr>\n",
       "    <tr>\n",
       "      <th>2</th>\n",
       "      <td>1261653</td>\n",
       "      <td>@arsenal_N1 @htTweets No I havent read it. Its...</td>\n",
       "      <td></td>\n",
       "      <td>utterflea</td>\n",
       "      <td>Michigan</td>\n",
       "      <td>Other</td>\n",
       "      <td>2020-10-31 07:05:41</td>\n",
       "    </tr>\n",
       "    <tr>\n",
       "      <th>3</th>\n",
       "      <td>1261654</td>\n",
       "      <td>Officials seized 151.82 grams of gold from the...</td>\n",
       "      <td></td>\n",
       "      <td>ExpressPune</td>\n",
       "      <td>Michigan</td>\n",
       "      <td>Other</td>\n",
       "      <td>2020-10-31 07:05:41</td>\n",
       "    </tr>\n",
       "    <tr>\n",
       "      <th>4</th>\n",
       "      <td>1261655</td>\n",
       "      <td>@NBA2K_MyTEAM So people really stayed up for t...</td>\n",
       "      <td></td>\n",
       "      <td>Calcooler26</td>\n",
       "      <td>Michigan</td>\n",
       "      <td>Other</td>\n",
       "      <td>2020-10-31 07:05:40</td>\n",
       "    </tr>\n",
       "  </tbody>\n",
       "</table>\n",
       "</div>"
      ],
      "text/plain": [
       "   ObjectId                                         tweet_text hashtags  \\\n",
       "0   1261651  I don’t understand how can I go from that to T...            \n",
       "1   1261652  Hope voters  of Bihar will not trapped under d...            \n",
       "2   1261653  @arsenal_N1 @htTweets No I havent read it. Its...            \n",
       "3   1261654  Officials seized 151.82 grams of gold from the...            \n",
       "4   1261655  @NBA2K_MyTEAM So people really stayed up for t...            \n",
       "\n",
       "       screen_name     state  party          created_at  \n",
       "0      meganewifey  Michigan  Other 2020-10-31 07:05:41  \n",
       "1  bpratap62071421  Michigan  Other 2020-10-31 07:05:41  \n",
       "2        utterflea  Michigan  Other 2020-10-31 07:05:41  \n",
       "3      ExpressPune  Michigan  Other 2020-10-31 07:05:41  \n",
       "4      Calcooler26  Michigan  Other 2020-10-31 07:05:40  "
      ]
     },
     "execution_count": 3,
     "metadata": {},
     "output_type": "execute_result"
    }
   ],
   "source": [
    "tweets_df.head()"
   ]
  },
  {
   "cell_type": "markdown",
   "metadata": {},
   "source": [
    "We now convert potential state abbreviations in the `state` field to state name in the following function"
   ]
  },
  {
   "cell_type": "code",
   "execution_count": 4,
   "metadata": {},
   "outputs": [],
   "source": [
    "us_state_abbrev = {'AL':'Alabama',\n",
    "    'AK':'Alaska',\n",
    "    'AZ':'Arizona',\n",
    "    'AR':'Arkansas',\n",
    "    'CA':'California',\n",
    "    'CO':'Colorado',\n",
    "    'CT':'Connecticut',\n",
    "    'DE':'Delaware',\n",
    "    'DC':'District of Columbia',\n",
    "    'FL':'Florida',\n",
    "    'GA':'Georgia',\n",
    "    'HI':'Hawaii',\n",
    "    'ID':'Idaho',\n",
    "    'IL':'Illinois',\n",
    "    'IN':'Indiana',\n",
    "    'IA':'Iowa',\n",
    "    'KS':'Kansas',\n",
    "    'KY':'Kentucky',\n",
    "    'LA':'Louisiana',\n",
    "    'ME':'Maine',\n",
    "    'MD':'Maryland',\n",
    "    'MA':'Massachusetts',\n",
    "    'MI':'Michigan',\n",
    "    'MN':'Minnesota',\n",
    "    'MS':'Mississippi',\n",
    "    'MO':'Missouri',\n",
    "    'MT':'Montana',\n",
    "    'NE':'Nebraska',\n",
    "    'NV':'Nevada',\n",
    "    'NH':'New Hampshire',\n",
    "    'NJ':'New Jersey',\n",
    "    'NM':'New Mexico',\n",
    "    'NY':'New York',\n",
    "    'NC':'North Carolina',\n",
    "    'ND':'North Dakota',\n",
    "    'OH':'Ohio',\n",
    "    'OK':'Oklahoma',\n",
    "    'OR':'Oregon',\n",
    "    'PA':'Pennsylvania',\n",
    "    'RI':'Rhode Island',\n",
    "    'SC':'South Carolina',\n",
    "    'SD':'South Dakota',\n",
    "    'TN':'Tennessee',\n",
    "    'TX':'Texas',\n",
    "    'UT':'Utah',\n",
    "    'VT':'Vermont',\n",
    "    'VA':'Virginia',\n",
    "    'WA':'Washington',\n",
    "    'WV':'West Virginia',\n",
    "    'WI':'Wisconsin',\n",
    "    'WY':'Wyoming'\n",
    "}"
   ]
  },
  {
   "cell_type": "code",
   "execution_count": 5,
   "metadata": {},
   "outputs": [],
   "source": [
    "def replace_states(value):\n",
    "    '''Replace state abbreviations with state names'''\n",
    "    if len(value)==2:\n",
    "        return us_state_abbrev[value]\n",
    "    else:\n",
    "        return value"
   ]
  },
  {
   "cell_type": "code",
   "execution_count": 6,
   "metadata": {},
   "outputs": [
    {
     "data": {
      "text/html": [
       "<div>\n",
       "<style scoped>\n",
       "    .dataframe tbody tr th:only-of-type {\n",
       "        vertical-align: middle;\n",
       "    }\n",
       "\n",
       "    .dataframe tbody tr th {\n",
       "        vertical-align: top;\n",
       "    }\n",
       "\n",
       "    .dataframe thead th {\n",
       "        text-align: right;\n",
       "    }\n",
       "</style>\n",
       "<table border=\"1\" class=\"dataframe\">\n",
       "  <thead>\n",
       "    <tr style=\"text-align: right;\">\n",
       "      <th></th>\n",
       "      <th>ObjectId</th>\n",
       "      <th>tweet_text</th>\n",
       "      <th>hashtags</th>\n",
       "      <th>screen_name</th>\n",
       "      <th>state</th>\n",
       "      <th>party</th>\n",
       "      <th>created_at</th>\n",
       "    </tr>\n",
       "  </thead>\n",
       "  <tbody>\n",
       "    <tr>\n",
       "      <th>0</th>\n",
       "      <td>1261651</td>\n",
       "      <td>I don’t understand how can I go from that to T...</td>\n",
       "      <td></td>\n",
       "      <td>meganewifey</td>\n",
       "      <td>Michigan</td>\n",
       "      <td>Other</td>\n",
       "      <td>2020-10-31 07:05:41</td>\n",
       "    </tr>\n",
       "    <tr>\n",
       "      <th>1</th>\n",
       "      <td>1261652</td>\n",
       "      <td>Hope voters  of Bihar will not trapped under d...</td>\n",
       "      <td></td>\n",
       "      <td>bpratap62071421</td>\n",
       "      <td>Michigan</td>\n",
       "      <td>Other</td>\n",
       "      <td>2020-10-31 07:05:41</td>\n",
       "    </tr>\n",
       "    <tr>\n",
       "      <th>2</th>\n",
       "      <td>1261653</td>\n",
       "      <td>@arsenal_N1 @htTweets No I havent read it. Its...</td>\n",
       "      <td></td>\n",
       "      <td>utterflea</td>\n",
       "      <td>Michigan</td>\n",
       "      <td>Other</td>\n",
       "      <td>2020-10-31 07:05:41</td>\n",
       "    </tr>\n",
       "    <tr>\n",
       "      <th>3</th>\n",
       "      <td>1261654</td>\n",
       "      <td>Officials seized 151.82 grams of gold from the...</td>\n",
       "      <td></td>\n",
       "      <td>ExpressPune</td>\n",
       "      <td>Michigan</td>\n",
       "      <td>Other</td>\n",
       "      <td>2020-10-31 07:05:41</td>\n",
       "    </tr>\n",
       "    <tr>\n",
       "      <th>4</th>\n",
       "      <td>1261655</td>\n",
       "      <td>@NBA2K_MyTEAM So people really stayed up for t...</td>\n",
       "      <td></td>\n",
       "      <td>Calcooler26</td>\n",
       "      <td>Michigan</td>\n",
       "      <td>Other</td>\n",
       "      <td>2020-10-31 07:05:40</td>\n",
       "    </tr>\n",
       "  </tbody>\n",
       "</table>\n",
       "</div>"
      ],
      "text/plain": [
       "   ObjectId                                         tweet_text hashtags  \\\n",
       "0   1261651  I don’t understand how can I go from that to T...            \n",
       "1   1261652  Hope voters  of Bihar will not trapped under d...            \n",
       "2   1261653  @arsenal_N1 @htTweets No I havent read it. Its...            \n",
       "3   1261654  Officials seized 151.82 grams of gold from the...            \n",
       "4   1261655  @NBA2K_MyTEAM So people really stayed up for t...            \n",
       "\n",
       "       screen_name     state  party          created_at  \n",
       "0      meganewifey  Michigan  Other 2020-10-31 07:05:41  \n",
       "1  bpratap62071421  Michigan  Other 2020-10-31 07:05:41  \n",
       "2        utterflea  Michigan  Other 2020-10-31 07:05:41  \n",
       "3      ExpressPune  Michigan  Other 2020-10-31 07:05:41  \n",
       "4      Calcooler26  Michigan  Other 2020-10-31 07:05:40  "
      ]
     },
     "execution_count": 6,
     "metadata": {},
     "output_type": "execute_result"
    }
   ],
   "source": [
    "tweets_df['state'] = tweets_df['state'].apply(replace_states)\n",
    "tweets_df.head()"
   ]
  },
  {
   "cell_type": "markdown",
   "metadata": {},
   "source": [
    "## 1. Extracting mentions and sentiments for tweets"
   ]
  },
  {
   "cell_type": "markdown",
   "metadata": {},
   "source": [
    "We extract the mentions (people/entities tagged) in each tweet"
   ]
  },
  {
   "cell_type": "code",
   "execution_count": 7,
   "metadata": {},
   "outputs": [
    {
     "data": {
      "text/plain": [
       "0                       \n",
       "1                       \n",
       "2    arsenal_N1,htTweets\n",
       "3                       \n",
       "4           NBA2K_MyTEAM\n",
       "Name: mention, dtype: object"
      ]
     },
     "execution_count": 7,
     "metadata": {},
     "output_type": "execute_result"
    }
   ],
   "source": [
    "tweets_df['mention'] = tweets_df['tweet_text'].str.findall(r'(?<![@\\w])@(\\w{1,25})').apply(','.join)\n",
    "tweets_df['mention'].head()"
   ]
  },
  {
   "cell_type": "markdown",
   "metadata": {},
   "source": [
    "Using `vaderSentiment` library we now extract the sentiment score for each tweet"
   ]
  },
  {
   "cell_type": "code",
   "execution_count": 8,
   "metadata": {},
   "outputs": [],
   "source": [
    "from vaderSentiment.vaderSentiment import SentimentIntensityAnalyzer\n",
    "analyser = SentimentIntensityAnalyzer()"
   ]
  },
  {
   "cell_type": "code",
   "execution_count": 9,
   "metadata": {},
   "outputs": [],
   "source": [
    "def sentiment_analyzer(tweet):\n",
    "    '''Return the dictionary of scores for each sentiment'''\n",
    "    return analyser.polarity_scores(tweet)"
   ]
  },
  {
   "cell_type": "code",
   "execution_count": 10,
   "metadata": {},
   "outputs": [],
   "source": [
    "def sentiment_score(dict1):\n",
    "    '''Return the average sentiment for the tweet'''\n",
    "    return dict1['compound']"
   ]
  },
  {
   "cell_type": "code",
   "execution_count": 11,
   "metadata": {},
   "outputs": [
    {
     "data": {
      "text/html": [
       "<div>\n",
       "<style scoped>\n",
       "    .dataframe tbody tr th:only-of-type {\n",
       "        vertical-align: middle;\n",
       "    }\n",
       "\n",
       "    .dataframe tbody tr th {\n",
       "        vertical-align: top;\n",
       "    }\n",
       "\n",
       "    .dataframe thead th {\n",
       "        text-align: right;\n",
       "    }\n",
       "</style>\n",
       "<table border=\"1\" class=\"dataframe\">\n",
       "  <thead>\n",
       "    <tr style=\"text-align: right;\">\n",
       "      <th></th>\n",
       "      <th>ObjectId</th>\n",
       "      <th>tweet_text</th>\n",
       "      <th>hashtags</th>\n",
       "      <th>screen_name</th>\n",
       "      <th>state</th>\n",
       "      <th>party</th>\n",
       "      <th>created_at</th>\n",
       "      <th>mention</th>\n",
       "      <th>sentiment_dict</th>\n",
       "      <th>sentiment_score</th>\n",
       "    </tr>\n",
       "  </thead>\n",
       "  <tbody>\n",
       "    <tr>\n",
       "      <th>0</th>\n",
       "      <td>1261651</td>\n",
       "      <td>I don’t understand how can I go from that to T...</td>\n",
       "      <td></td>\n",
       "      <td>meganewifey</td>\n",
       "      <td>Michigan</td>\n",
       "      <td>Other</td>\n",
       "      <td>2020-10-31 07:05:41</td>\n",
       "      <td></td>\n",
       "      <td>{'neg': 0.0, 'neu': 1.0, 'pos': 0.0, 'compound...</td>\n",
       "      <td>0.0000</td>\n",
       "    </tr>\n",
       "    <tr>\n",
       "      <th>1</th>\n",
       "      <td>1261652</td>\n",
       "      <td>Hope voters  of Bihar will not trapped under d...</td>\n",
       "      <td></td>\n",
       "      <td>bpratap62071421</td>\n",
       "      <td>Michigan</td>\n",
       "      <td>Other</td>\n",
       "      <td>2020-10-31 07:05:41</td>\n",
       "      <td></td>\n",
       "      <td>{'neg': 0.029, 'neu': 0.761, 'pos': 0.21, 'com...</td>\n",
       "      <td>0.8191</td>\n",
       "    </tr>\n",
       "    <tr>\n",
       "      <th>2</th>\n",
       "      <td>1261653</td>\n",
       "      <td>@arsenal_N1 @htTweets No I havent read it. Its...</td>\n",
       "      <td></td>\n",
       "      <td>utterflea</td>\n",
       "      <td>Michigan</td>\n",
       "      <td>Other</td>\n",
       "      <td>2020-10-31 07:05:41</td>\n",
       "      <td>arsenal_N1,htTweets</td>\n",
       "      <td>{'neg': 0.063, 'neu': 0.86, 'pos': 0.077, 'com...</td>\n",
       "      <td>0.1280</td>\n",
       "    </tr>\n",
       "    <tr>\n",
       "      <th>3</th>\n",
       "      <td>1261654</td>\n",
       "      <td>Officials seized 151.82 grams of gold from the...</td>\n",
       "      <td></td>\n",
       "      <td>ExpressPune</td>\n",
       "      <td>Michigan</td>\n",
       "      <td>Other</td>\n",
       "      <td>2020-10-31 07:05:41</td>\n",
       "      <td></td>\n",
       "      <td>{'neg': 0.0, 'neu': 1.0, 'pos': 0.0, 'compound...</td>\n",
       "      <td>0.0000</td>\n",
       "    </tr>\n",
       "    <tr>\n",
       "      <th>4</th>\n",
       "      <td>1261655</td>\n",
       "      <td>@NBA2K_MyTEAM So people really stayed up for t...</td>\n",
       "      <td></td>\n",
       "      <td>Calcooler26</td>\n",
       "      <td>Michigan</td>\n",
       "      <td>Other</td>\n",
       "      <td>2020-10-31 07:05:40</td>\n",
       "      <td>NBA2K_MyTEAM</td>\n",
       "      <td>{'neg': 0.0, 'neu': 1.0, 'pos': 0.0, 'compound...</td>\n",
       "      <td>0.0000</td>\n",
       "    </tr>\n",
       "  </tbody>\n",
       "</table>\n",
       "</div>"
      ],
      "text/plain": [
       "   ObjectId                                         tweet_text hashtags  \\\n",
       "0   1261651  I don’t understand how can I go from that to T...            \n",
       "1   1261652  Hope voters  of Bihar will not trapped under d...            \n",
       "2   1261653  @arsenal_N1 @htTweets No I havent read it. Its...            \n",
       "3   1261654  Officials seized 151.82 grams of gold from the...            \n",
       "4   1261655  @NBA2K_MyTEAM So people really stayed up for t...            \n",
       "\n",
       "       screen_name     state  party          created_at              mention  \\\n",
       "0      meganewifey  Michigan  Other 2020-10-31 07:05:41                        \n",
       "1  bpratap62071421  Michigan  Other 2020-10-31 07:05:41                        \n",
       "2        utterflea  Michigan  Other 2020-10-31 07:05:41  arsenal_N1,htTweets   \n",
       "3      ExpressPune  Michigan  Other 2020-10-31 07:05:41                        \n",
       "4      Calcooler26  Michigan  Other 2020-10-31 07:05:40         NBA2K_MyTEAM   \n",
       "\n",
       "                                      sentiment_dict  sentiment_score  \n",
       "0  {'neg': 0.0, 'neu': 1.0, 'pos': 0.0, 'compound...           0.0000  \n",
       "1  {'neg': 0.029, 'neu': 0.761, 'pos': 0.21, 'com...           0.8191  \n",
       "2  {'neg': 0.063, 'neu': 0.86, 'pos': 0.077, 'com...           0.1280  \n",
       "3  {'neg': 0.0, 'neu': 1.0, 'pos': 0.0, 'compound...           0.0000  \n",
       "4  {'neg': 0.0, 'neu': 1.0, 'pos': 0.0, 'compound...           0.0000  "
      ]
     },
     "execution_count": 11,
     "metadata": {},
     "output_type": "execute_result"
    }
   ],
   "source": [
    "tweets_df['sentiment_dict'] = tweets_df['tweet_text'].apply(sentiment_analyzer)\n",
    "tweets_df['sentiment_score'] = tweets_df['sentiment_dict'].apply(sentiment_score)\n",
    "tweets_df.head()"
   ]
  },
  {
   "cell_type": "code",
   "execution_count": 12,
   "metadata": {},
   "outputs": [],
   "source": [
    "import matplotlib.pyplot as plt \n",
    "import seaborn as sns\n",
    "\n",
    "#set preferences\n",
    "sns.set(color_codes=True)"
   ]
  },
  {
   "cell_type": "markdown",
   "metadata": {},
   "source": [
    "Having extracted sentiments for each tweet, we now visualize the general sentiment distribution"
   ]
  },
  {
   "cell_type": "code",
   "execution_count": 13,
   "metadata": {},
   "outputs": [
    {
     "data": {
      "image/png": "[encoded data removed]",
      "text/plain": [
       "<Figure size 720x432 with 1 Axes>"
      ]
     },
     "metadata": {},
     "output_type": "display_data"
    }
   ],
   "source": [
    "num_bins = 50\n",
    "plt.figure(figsize=(10,6))\n",
    "n, bins, patches = plt.hist(tweets_df['sentiment_score'], num_bins, facecolor='blue', alpha=0.6)\n",
    "plt.xlabel('Sentiment score')\n",
    "plt.ylabel('Count')\n",
    "plt.title('Histogram of sentiment score')\n",
    "plt.show();"
   ]
  },
  {
   "cell_type": "markdown",
   "metadata": {},
   "source": [
    "## 2. Extract tokens for each tweet"
   ]
  },
  {
   "cell_type": "code",
   "execution_count": 14,
   "metadata": {},
   "outputs": [
    {
     "name": "stderr",
     "output_type": "stream",
     "text": [
      "[nltk_data] Downloading package punkt to\n",
      "[nltk_data]     C:\\Users\\manu9321\\AppData\\Roaming\\nltk_data...\n",
      "[nltk_data]   Package punkt is already up-to-date!\n"
     ]
    },
    {
     "data": {
      "text/plain": [
       "True"
      ]
     },
     "execution_count": 14,
     "metadata": {},
     "output_type": "execute_result"
    }
   ],
   "source": [
    "from nltk.tokenize import word_tokenize\n",
    "import pandas as pd\n",
    "\n",
    "import nltk\n",
    "nltk.download('punkt')"
   ]
  },
  {
   "cell_type": "code",
   "execution_count": 15,
   "metadata": {},
   "outputs": [
    {
     "data": {
      "text/plain": [
       "0    [I, don, ’, t, understand, how, can, I, go, fr...\n",
       "1    [Hope, voters, of, Bihar, will, not, trapped, ...\n",
       "2    [@, arsenal_N1, @, htTweets, No, I, havent, re...\n",
       "3    [Officials, seized, 151.82, grams, of, gold, f...\n",
       "4    [@, NBA2K_MyTEAM, So, people, really, stayed, ...\n",
       "Name: tokens, dtype: object"
      ]
     },
     "execution_count": 15,
     "metadata": {},
     "output_type": "execute_result"
    }
   ],
   "source": [
    "tweets_df['tokens'] = tweets_df['tweet_text'].apply(word_tokenize)\n",
    "tweets_df['tokens'].head()"
   ]
  },
  {
   "cell_type": "code",
   "execution_count": 16,
   "metadata": {},
   "outputs": [
    {
     "name": "stderr",
     "output_type": "stream",
     "text": [
      "[nltk_data] Downloading package stopwords to\n",
      "[nltk_data]     C:\\Users\\manu9321\\AppData\\Roaming\\nltk_data...\n",
      "[nltk_data]   Package stopwords is already up-to-date!\n"
     ]
    },
    {
     "data": {
      "text/plain": [
       "True"
      ]
     },
     "execution_count": 16,
     "metadata": {},
     "output_type": "execute_result"
    }
   ],
   "source": [
    "nltk.download('stopwords')"
   ]
  },
  {
   "cell_type": "code",
   "execution_count": 17,
   "metadata": {},
   "outputs": [],
   "source": [
    "from nltk.corpus import stopwords\n",
    "english_stopwords = set(stopwords.words('english'))"
   ]
  },
  {
   "cell_type": "markdown",
   "metadata": {},
   "source": [
    "We write a method to remove stopwords (e.g. 'this', 'a', 'to') etc from our tokens. We also add a few others, specific to our data"
   ]
  },
  {
   "cell_type": "code",
   "execution_count": 18,
   "metadata": {},
   "outputs": [],
   "source": [
    "def clean_tokens(tokens):\n",
    "    '''Remove punctuation and stopwords from tokens'''\n",
    "    english_stopwords.add('http')\n",
    "    english_stopwords.add('https')\n",
    "    english_stopwords.add('amp')\n",
    "    tokens1 = [word for word in tokens if word.isalnum()]\n",
    "    return [x for x in tokens1 if x.lower() not in english_stopwords]"
   ]
  },
  {
   "cell_type": "code",
   "execution_count": 19,
   "metadata": {},
   "outputs": [
    {
     "data": {
      "text/plain": [
       "0                                     [understand, go]\n",
       "1    [Hope, voters, Bihar, trapped, different, tric...\n",
       "2    [htTweets, havent, read, released, point, colu...\n",
       "3    [Officials, seized, grams, gold, two, bags, pa...\n",
       "4                         [people, really, stayed, 2k]\n",
       "Name: cleaned_tokens, dtype: object"
      ]
     },
     "execution_count": 19,
     "metadata": {},
     "output_type": "execute_result"
    }
   ],
   "source": [
    "tweets_df['cleaned_tokens'] = tweets_df['tokens'].apply(clean_tokens)\n",
    "tweets_df['cleaned_tokens'].head()"
   ]
  },
  {
   "cell_type": "code",
   "execution_count": 20,
   "metadata": {},
   "outputs": [
    {
     "data": {
      "text/html": [
       "<div>\n",
       "<style scoped>\n",
       "    .dataframe tbody tr th:only-of-type {\n",
       "        vertical-align: middle;\n",
       "    }\n",
       "\n",
       "    .dataframe tbody tr th {\n",
       "        vertical-align: top;\n",
       "    }\n",
       "\n",
       "    .dataframe thead th {\n",
       "        text-align: right;\n",
       "    }\n",
       "</style>\n",
       "<table border=\"1\" class=\"dataframe\">\n",
       "  <thead>\n",
       "    <tr style=\"text-align: right;\">\n",
       "      <th></th>\n",
       "      <th>ObjectId</th>\n",
       "      <th>tweet_text</th>\n",
       "      <th>hashtags</th>\n",
       "      <th>screen_name</th>\n",
       "      <th>state</th>\n",
       "      <th>party</th>\n",
       "      <th>created_at</th>\n",
       "      <th>mention</th>\n",
       "      <th>sentiment_dict</th>\n",
       "      <th>sentiment_score</th>\n",
       "      <th>tokens</th>\n",
       "      <th>cleaned_tokens</th>\n",
       "    </tr>\n",
       "  </thead>\n",
       "  <tbody>\n",
       "    <tr>\n",
       "      <th>0</th>\n",
       "      <td>1261651</td>\n",
       "      <td>I don’t understand how can I go from that to T...</td>\n",
       "      <td></td>\n",
       "      <td>meganewifey</td>\n",
       "      <td>Michigan</td>\n",
       "      <td>Other</td>\n",
       "      <td>2020-10-31 07:05:41</td>\n",
       "      <td></td>\n",
       "      <td>{'neg': 0.0, 'neu': 1.0, 'pos': 0.0, 'compound...</td>\n",
       "      <td>0.0000</td>\n",
       "      <td>[I, don, ’, t, understand, how, can, I, go, fr...</td>\n",
       "      <td>[understand, go]</td>\n",
       "    </tr>\n",
       "    <tr>\n",
       "      <th>1</th>\n",
       "      <td>1261652</td>\n",
       "      <td>Hope voters  of Bihar will not trapped under d...</td>\n",
       "      <td></td>\n",
       "      <td>bpratap62071421</td>\n",
       "      <td>Michigan</td>\n",
       "      <td>Other</td>\n",
       "      <td>2020-10-31 07:05:41</td>\n",
       "      <td></td>\n",
       "      <td>{'neg': 0.029, 'neu': 0.761, 'pos': 0.21, 'com...</td>\n",
       "      <td>0.8191</td>\n",
       "      <td>[Hope, voters, of, Bihar, will, not, trapped, ...</td>\n",
       "      <td>[Hope, voters, Bihar, trapped, different, tric...</td>\n",
       "    </tr>\n",
       "    <tr>\n",
       "      <th>2</th>\n",
       "      <td>1261653</td>\n",
       "      <td>@arsenal_N1 @htTweets No I havent read it. Its...</td>\n",
       "      <td></td>\n",
       "      <td>utterflea</td>\n",
       "      <td>Michigan</td>\n",
       "      <td>Other</td>\n",
       "      <td>2020-10-31 07:05:41</td>\n",
       "      <td>arsenal_N1,htTweets</td>\n",
       "      <td>{'neg': 0.063, 'neu': 0.86, 'pos': 0.077, 'com...</td>\n",
       "      <td>0.1280</td>\n",
       "      <td>[@, arsenal_N1, @, htTweets, No, I, havent, re...</td>\n",
       "      <td>[htTweets, havent, read, released, point, colu...</td>\n",
       "    </tr>\n",
       "    <tr>\n",
       "      <th>3</th>\n",
       "      <td>1261654</td>\n",
       "      <td>Officials seized 151.82 grams of gold from the...</td>\n",
       "      <td></td>\n",
       "      <td>ExpressPune</td>\n",
       "      <td>Michigan</td>\n",
       "      <td>Other</td>\n",
       "      <td>2020-10-31 07:05:41</td>\n",
       "      <td></td>\n",
       "      <td>{'neg': 0.0, 'neu': 1.0, 'pos': 0.0, 'compound...</td>\n",
       "      <td>0.0000</td>\n",
       "      <td>[Officials, seized, 151.82, grams, of, gold, f...</td>\n",
       "      <td>[Officials, seized, grams, gold, two, bags, pa...</td>\n",
       "    </tr>\n",
       "    <tr>\n",
       "      <th>4</th>\n",
       "      <td>1261655</td>\n",
       "      <td>@NBA2K_MyTEAM So people really stayed up for t...</td>\n",
       "      <td></td>\n",
       "      <td>Calcooler26</td>\n",
       "      <td>Michigan</td>\n",
       "      <td>Other</td>\n",
       "      <td>2020-10-31 07:05:40</td>\n",
       "      <td>NBA2K_MyTEAM</td>\n",
       "      <td>{'neg': 0.0, 'neu': 1.0, 'pos': 0.0, 'compound...</td>\n",
       "      <td>0.0000</td>\n",
       "      <td>[@, NBA2K_MyTEAM, So, people, really, stayed, ...</td>\n",
       "      <td>[people, really, stayed, 2k]</td>\n",
       "    </tr>\n",
       "  </tbody>\n",
       "</table>\n",
       "</div>"
      ],
      "text/plain": [
       "   ObjectId                                         tweet_text hashtags  \\\n",
       "0   1261651  I don’t understand how can I go from that to T...            \n",
       "1   1261652  Hope voters  of Bihar will not trapped under d...            \n",
       "2   1261653  @arsenal_N1 @htTweets No I havent read it. Its...            \n",
       "3   1261654  Officials seized 151.82 grams of gold from the...            \n",
       "4   1261655  @NBA2K_MyTEAM So people really stayed up for t...            \n",
       "\n",
       "       screen_name     state  party          created_at              mention  \\\n",
       "0      meganewifey  Michigan  Other 2020-10-31 07:05:41                        \n",
       "1  bpratap62071421  Michigan  Other 2020-10-31 07:05:41                        \n",
       "2        utterflea  Michigan  Other 2020-10-31 07:05:41  arsenal_N1,htTweets   \n",
       "3      ExpressPune  Michigan  Other 2020-10-31 07:05:41                        \n",
       "4      Calcooler26  Michigan  Other 2020-10-31 07:05:40         NBA2K_MyTEAM   \n",
       "\n",
       "                                      sentiment_dict  sentiment_score  \\\n",
       "0  {'neg': 0.0, 'neu': 1.0, 'pos': 0.0, 'compound...           0.0000   \n",
       "1  {'neg': 0.029, 'neu': 0.761, 'pos': 0.21, 'com...           0.8191   \n",
       "2  {'neg': 0.063, 'neu': 0.86, 'pos': 0.077, 'com...           0.1280   \n",
       "3  {'neg': 0.0, 'neu': 1.0, 'pos': 0.0, 'compound...           0.0000   \n",
       "4  {'neg': 0.0, 'neu': 1.0, 'pos': 0.0, 'compound...           0.0000   \n",
       "\n",
       "                                              tokens  \\\n",
       "0  [I, don, ’, t, understand, how, can, I, go, fr...   \n",
       "1  [Hope, voters, of, Bihar, will, not, trapped, ...   \n",
       "2  [@, arsenal_N1, @, htTweets, No, I, havent, re...   \n",
       "3  [Officials, seized, 151.82, grams, of, gold, f...   \n",
       "4  [@, NBA2K_MyTEAM, So, people, really, stayed, ...   \n",
       "\n",
       "                                      cleaned_tokens  \n",
       "0                                   [understand, go]  \n",
       "1  [Hope, voters, Bihar, trapped, different, tric...  \n",
       "2  [htTweets, havent, read, released, point, colu...  \n",
       "3  [Officials, seized, grams, gold, two, bags, pa...  \n",
       "4                       [people, really, stayed, 2k]  "
      ]
     },
     "execution_count": 20,
     "metadata": {},
     "output_type": "execute_result"
    }
   ],
   "source": [
    "tweets_df.head()"
   ]
  },
  {
   "cell_type": "markdown",
   "metadata": {},
   "source": [
    "## 3. Compute stats for each state"
   ]
  },
  {
   "cell_type": "code",
   "execution_count": 25,
   "metadata": {},
   "outputs": [
    {
     "data": {
      "text/plain": [
       "(51, 8)"
      ]
     },
     "execution_count": 25,
     "metadata": {},
     "output_type": "execute_result"
    }
   ],
   "source": [
    "states_url = 'https://services1.arcgis.com/99lidPhWCzftIe9K/arcgis/rest/services/USStates/FeatureServer/0'\n",
    "states_layer = FeatureLayer(states_url)\n",
    "states_df = states_layer.query().sdf\n",
    "states_df.shape"
   ]
  },
  {
   "cell_type": "code",
   "execution_count": 26,
   "metadata": {},
   "outputs": [
    {
     "data": {
      "text/html": [
       "<div>\n",
       "<style scoped>\n",
       "    .dataframe tbody tr th:only-of-type {\n",
       "        vertical-align: middle;\n",
       "    }\n",
       "\n",
       "    .dataframe tbody tr th {\n",
       "        vertical-align: top;\n",
       "    }\n",
       "\n",
       "    .dataframe thead th {\n",
       "        text-align: right;\n",
       "    }\n",
       "</style>\n",
       "<table border=\"1\" class=\"dataframe\">\n",
       "  <thead>\n",
       "    <tr style=\"text-align: right;\">\n",
       "      <th></th>\n",
       "      <th>OBJECTID_1</th>\n",
       "      <th>OBJECTID</th>\n",
       "      <th>STATE_NAME</th>\n",
       "      <th>STATE_FIPS</th>\n",
       "      <th>STATE_ABBR</th>\n",
       "      <th>Shape__Area</th>\n",
       "      <th>Shape__Length</th>\n",
       "      <th>SHAPE</th>\n",
       "    </tr>\n",
       "  </thead>\n",
       "  <tbody>\n",
       "    <tr>\n",
       "      <th>0</th>\n",
       "      <td>1</td>\n",
       "      <td>None</td>\n",
       "      <td>Alabama</td>\n",
       "      <td>01</td>\n",
       "      <td>AL</td>\n",
       "      <td>1.899684e+11</td>\n",
       "      <td>2.506745e+06</td>\n",
       "      <td>{\"rings\": [[[-9848795.1956, 3749386.4234], [-9...</td>\n",
       "    </tr>\n",
       "    <tr>\n",
       "      <th>1</th>\n",
       "      <td>2</td>\n",
       "      <td>None</td>\n",
       "      <td>Alaska</td>\n",
       "      <td>02</td>\n",
       "      <td>AK</td>\n",
       "      <td>4.864666e+12</td>\n",
       "      <td>4.827816e+07</td>\n",
       "      <td>{\"rings\": [[[-16280479.1337, 11068714.8191], [...</td>\n",
       "    </tr>\n",
       "    <tr>\n",
       "      <th>2</th>\n",
       "      <td>3</td>\n",
       "      <td>None</td>\n",
       "      <td>Arizona</td>\n",
       "      <td>04</td>\n",
       "      <td>AZ</td>\n",
       "      <td>4.341107e+11</td>\n",
       "      <td>2.907332e+06</td>\n",
       "      <td>{\"rings\": [[[-12781025.0556, 3828631.1485], [-...</td>\n",
       "    </tr>\n",
       "    <tr>\n",
       "      <th>3</th>\n",
       "      <td>4</td>\n",
       "      <td>None</td>\n",
       "      <td>Arkansas</td>\n",
       "      <td>05</td>\n",
       "      <td>AR</td>\n",
       "      <td>2.053290e+11</td>\n",
       "      <td>2.652242e+06</td>\n",
       "      <td>{\"rings\": [[[-10531500.4946, 4369567.5414], [-...</td>\n",
       "    </tr>\n",
       "    <tr>\n",
       "      <th>4</th>\n",
       "      <td>5</td>\n",
       "      <td>None</td>\n",
       "      <td>California</td>\n",
       "      <td>06</td>\n",
       "      <td>CA</td>\n",
       "      <td>6.496358e+11</td>\n",
       "      <td>6.856510e+06</td>\n",
       "      <td>{\"rings\": [[[-13829195.0781, 4967239.458], [-1...</td>\n",
       "    </tr>\n",
       "  </tbody>\n",
       "</table>\n",
       "</div>"
      ],
      "text/plain": [
       "   OBJECTID_1 OBJECTID  STATE_NAME STATE_FIPS STATE_ABBR   Shape__Area  \\\n",
       "0           1     None     Alabama         01         AL  1.899684e+11   \n",
       "1           2     None      Alaska         02         AK  4.864666e+12   \n",
       "2           3     None     Arizona         04         AZ  4.341107e+11   \n",
       "3           4     None    Arkansas         05         AR  2.053290e+11   \n",
       "4           5     None  California         06         CA  6.496358e+11   \n",
       "\n",
       "   Shape__Length                                              SHAPE  \n",
       "0   2.506745e+06  {\"rings\": [[[-9848795.1956, 3749386.4234], [-9...  \n",
       "1   4.827816e+07  {\"rings\": [[[-16280479.1337, 11068714.8191], [...  \n",
       "2   2.907332e+06  {\"rings\": [[[-12781025.0556, 3828631.1485], [-...  \n",
       "3   2.652242e+06  {\"rings\": [[[-10531500.4946, 4369567.5414], [-...  \n",
       "4   6.856510e+06  {\"rings\": [[[-13829195.0781, 4967239.458], [-1...  "
      ]
     },
     "execution_count": 26,
     "metadata": {},
     "output_type": "execute_result"
    }
   ],
   "source": [
    "states_df.head()"
   ]
  },
  {
   "cell_type": "code",
   "execution_count": 27,
   "metadata": {},
   "outputs": [
    {
     "data": {
      "text/html": [
       "<div>\n",
       "<style scoped>\n",
       "    .dataframe tbody tr th:only-of-type {\n",
       "        vertical-align: middle;\n",
       "    }\n",
       "\n",
       "    .dataframe tbody tr th {\n",
       "        vertical-align: top;\n",
       "    }\n",
       "\n",
       "    .dataframe thead th {\n",
       "        text-align: right;\n",
       "    }\n",
       "</style>\n",
       "<table border=\"1\" class=\"dataframe\">\n",
       "  <thead>\n",
       "    <tr style=\"text-align: right;\">\n",
       "      <th></th>\n",
       "      <th>state</th>\n",
       "      <th>party</th>\n",
       "      <th>mention</th>\n",
       "      <th>hashtags</th>\n",
       "      <th>sentiment_score</th>\n",
       "      <th>cleaned_tokens</th>\n",
       "    </tr>\n",
       "  </thead>\n",
       "  <tbody>\n",
       "    <tr>\n",
       "      <th>0</th>\n",
       "      <td>Michigan</td>\n",
       "      <td>Other</td>\n",
       "      <td></td>\n",
       "      <td></td>\n",
       "      <td>0.0000</td>\n",
       "      <td>[understand, go]</td>\n",
       "    </tr>\n",
       "    <tr>\n",
       "      <th>1</th>\n",
       "      <td>Michigan</td>\n",
       "      <td>Other</td>\n",
       "      <td></td>\n",
       "      <td></td>\n",
       "      <td>0.8191</td>\n",
       "      <td>[Hope, voters, Bihar, trapped, different, tric...</td>\n",
       "    </tr>\n",
       "    <tr>\n",
       "      <th>2</th>\n",
       "      <td>Michigan</td>\n",
       "      <td>Other</td>\n",
       "      <td>arsenal_N1,htTweets</td>\n",
       "      <td></td>\n",
       "      <td>0.1280</td>\n",
       "      <td>[htTweets, havent, read, released, point, colu...</td>\n",
       "    </tr>\n",
       "    <tr>\n",
       "      <th>3</th>\n",
       "      <td>Michigan</td>\n",
       "      <td>Other</td>\n",
       "      <td></td>\n",
       "      <td></td>\n",
       "      <td>0.0000</td>\n",
       "      <td>[Officials, seized, grams, gold, two, bags, pa...</td>\n",
       "    </tr>\n",
       "    <tr>\n",
       "      <th>4</th>\n",
       "      <td>Michigan</td>\n",
       "      <td>Other</td>\n",
       "      <td>NBA2K_MyTEAM</td>\n",
       "      <td></td>\n",
       "      <td>0.0000</td>\n",
       "      <td>[people, really, stayed, 2k]</td>\n",
       "    </tr>\n",
       "  </tbody>\n",
       "</table>\n",
       "</div>"
      ],
      "text/plain": [
       "      state  party              mention hashtags  sentiment_score  \\\n",
       "0  Michigan  Other                                         0.0000   \n",
       "1  Michigan  Other                                         0.8191   \n",
       "2  Michigan  Other  arsenal_N1,htTweets                    0.1280   \n",
       "3  Michigan  Other                                         0.0000   \n",
       "4  Michigan  Other         NBA2K_MyTEAM                    0.0000   \n",
       "\n",
       "                                      cleaned_tokens  \n",
       "0                                   [understand, go]  \n",
       "1  [Hope, voters, Bihar, trapped, different, tric...  \n",
       "2  [htTweets, havent, read, released, point, colu...  \n",
       "3  [Officials, seized, grams, gold, two, bags, pa...  \n",
       "4                       [people, really, stayed, 2k]  "
      ]
     },
     "execution_count": 27,
     "metadata": {},
     "output_type": "execute_result"
    }
   ],
   "source": [
    "filtered_tweets = tweets_df[['state', 'party', 'mention', 'hashtags', 'sentiment_score', 'cleaned_tokens']]\n",
    "filtered_tweets.head()"
   ]
  },
  {
   "cell_type": "code",
   "execution_count": 28,
   "metadata": {},
   "outputs": [
    {
     "data": {
      "text/html": [
       "<div>\n",
       "<style scoped>\n",
       "    .dataframe tbody tr th:only-of-type {\n",
       "        vertical-align: middle;\n",
       "    }\n",
       "\n",
       "    .dataframe tbody tr th {\n",
       "        vertical-align: top;\n",
       "    }\n",
       "\n",
       "    .dataframe thead th {\n",
       "        text-align: right;\n",
       "    }\n",
       "</style>\n",
       "<table border=\"1\" class=\"dataframe\">\n",
       "  <thead>\n",
       "    <tr style=\"text-align: right;\">\n",
       "      <th></th>\n",
       "      <th>state</th>\n",
       "      <th>mention</th>\n",
       "      <th>hashtags</th>\n",
       "      <th>sentiment_score</th>\n",
       "      <th>cleaned_tokens</th>\n",
       "      <th>party_D</th>\n",
       "      <th>party_I</th>\n",
       "      <th>party_Other</th>\n",
       "      <th>party_R</th>\n",
       "    </tr>\n",
       "  </thead>\n",
       "  <tbody>\n",
       "    <tr>\n",
       "      <th>0</th>\n",
       "      <td>Michigan</td>\n",
       "      <td></td>\n",
       "      <td></td>\n",
       "      <td>0.0000</td>\n",
       "      <td>[understand, go]</td>\n",
       "      <td>0</td>\n",
       "      <td>0</td>\n",
       "      <td>1</td>\n",
       "      <td>0</td>\n",
       "    </tr>\n",
       "    <tr>\n",
       "      <th>1</th>\n",
       "      <td>Michigan</td>\n",
       "      <td></td>\n",
       "      <td></td>\n",
       "      <td>0.8191</td>\n",
       "      <td>[Hope, voters, Bihar, trapped, different, tric...</td>\n",
       "      <td>0</td>\n",
       "      <td>0</td>\n",
       "      <td>1</td>\n",
       "      <td>0</td>\n",
       "    </tr>\n",
       "    <tr>\n",
       "      <th>2</th>\n",
       "      <td>Michigan</td>\n",
       "      <td>arsenal_N1,htTweets</td>\n",
       "      <td></td>\n",
       "      <td>0.1280</td>\n",
       "      <td>[htTweets, havent, read, released, point, colu...</td>\n",
       "      <td>0</td>\n",
       "      <td>0</td>\n",
       "      <td>1</td>\n",
       "      <td>0</td>\n",
       "    </tr>\n",
       "    <tr>\n",
       "      <th>3</th>\n",
       "      <td>Michigan</td>\n",
       "      <td></td>\n",
       "      <td></td>\n",
       "      <td>0.0000</td>\n",
       "      <td>[Officials, seized, grams, gold, two, bags, pa...</td>\n",
       "      <td>0</td>\n",
       "      <td>0</td>\n",
       "      <td>1</td>\n",
       "      <td>0</td>\n",
       "    </tr>\n",
       "    <tr>\n",
       "      <th>4</th>\n",
       "      <td>Michigan</td>\n",
       "      <td>NBA2K_MyTEAM</td>\n",
       "      <td></td>\n",
       "      <td>0.0000</td>\n",
       "      <td>[people, really, stayed, 2k]</td>\n",
       "      <td>0</td>\n",
       "      <td>0</td>\n",
       "      <td>1</td>\n",
       "      <td>0</td>\n",
       "    </tr>\n",
       "  </tbody>\n",
       "</table>\n",
       "</div>"
      ],
      "text/plain": [
       "      state              mention hashtags  sentiment_score  \\\n",
       "0  Michigan                                         0.0000   \n",
       "1  Michigan                                         0.8191   \n",
       "2  Michigan  arsenal_N1,htTweets                    0.1280   \n",
       "3  Michigan                                         0.0000   \n",
       "4  Michigan         NBA2K_MyTEAM                    0.0000   \n",
       "\n",
       "                                      cleaned_tokens  party_D  party_I  \\\n",
       "0                                   [understand, go]        0        0   \n",
       "1  [Hope, voters, Bihar, trapped, different, tric...        0        0   \n",
       "2  [htTweets, havent, read, released, point, colu...        0        0   \n",
       "3  [Officials, seized, grams, gold, two, bags, pa...        0        0   \n",
       "4                       [people, really, stayed, 2k]        0        0   \n",
       "\n",
       "   party_Other  party_R  \n",
       "0            1        0  \n",
       "1            1        0  \n",
       "2            1        0  \n",
       "3            1        0  \n",
       "4            1        0  "
      ]
     },
     "execution_count": 28,
     "metadata": {},
     "output_type": "execute_result"
    }
   ],
   "source": [
    "filtered_tweets = pd.get_dummies(filtered_tweets, columns=['party'], prefix=['party'])\n",
    "filtered_tweets.head()"
   ]
  },
  {
   "cell_type": "code",
   "execution_count": 29,
   "metadata": {},
   "outputs": [],
   "source": [
    "state_group = filtered_tweets.groupby('state').agg({'party_D':'sum', 'party_R':'sum', 'party_I':'sum', 'party_Other':'sum', 'sentiment_score':'median', 'mention': ' '.join, 'hashtags': ' '.join, 'cleaned_tokens': 'sum'})"
   ]
  },
  {
   "cell_type": "markdown",
   "metadata": {},
   "source": [
    "## 4. Find most frequently occuring mention and hashtag for each state\n",
    "\n",
    "We write a method that can be used to extract the mention and hashtag used more frequently for each state"
   ]
  },
  {
   "cell_type": "code",
   "execution_count": 30,
   "metadata": {},
   "outputs": [],
   "source": [
    "from collections import Counter"
   ]
  },
  {
   "cell_type": "code",
   "execution_count": 31,
   "metadata": {},
   "outputs": [],
   "source": [
    "def most_frequent_word(sequence):\n",
    "    '''Extract the most freqently occuring word from a sequence (string) of words'''\n",
    "    try:\n",
    "        tokens = word_tokenize(sequence)\n",
    "        tokens = [word for word in tokens if word.isalnum()]\n",
    "        occurence_count = Counter(tokens) \n",
    "        return occurence_count.most_common(1)[0][0]\n",
    "    except:\n",
    "        return ''"
   ]
  },
  {
   "cell_type": "code",
   "execution_count": 32,
   "metadata": {},
   "outputs": [],
   "source": [
    "state_group['freq_mention'] = state_group['mention'].apply(most_frequent_word)\n",
    "state_group['freq_hashtag'] = state_group['hashtags'].apply(most_frequent_word)"
   ]
  },
  {
   "cell_type": "code",
   "execution_count": 33,
   "metadata": {},
   "outputs": [
    {
     "data": {
      "text/html": [
       "<div>\n",
       "<style scoped>\n",
       "    .dataframe tbody tr th:only-of-type {\n",
       "        vertical-align: middle;\n",
       "    }\n",
       "\n",
       "    .dataframe tbody tr th {\n",
       "        vertical-align: top;\n",
       "    }\n",
       "\n",
       "    .dataframe thead th {\n",
       "        text-align: right;\n",
       "    }\n",
       "</style>\n",
       "<table border=\"1\" class=\"dataframe\">\n",
       "  <thead>\n",
       "    <tr style=\"text-align: right;\">\n",
       "      <th></th>\n",
       "      <th>party_D</th>\n",
       "      <th>party_R</th>\n",
       "      <th>party_I</th>\n",
       "      <th>party_Other</th>\n",
       "      <th>sentiment_score</th>\n",
       "      <th>mention</th>\n",
       "      <th>hashtags</th>\n",
       "      <th>cleaned_tokens</th>\n",
       "      <th>freq_mention</th>\n",
       "      <th>freq_hashtag</th>\n",
       "    </tr>\n",
       "    <tr>\n",
       "      <th>state</th>\n",
       "      <th></th>\n",
       "      <th></th>\n",
       "      <th></th>\n",
       "      <th></th>\n",
       "      <th></th>\n",
       "      <th></th>\n",
       "      <th></th>\n",
       "      <th></th>\n",
       "      <th></th>\n",
       "      <th></th>\n",
       "    </tr>\n",
       "  </thead>\n",
       "  <tbody>\n",
       "    <tr>\n",
       "      <th>Alabama</th>\n",
       "      <td>99.0</td>\n",
       "      <td>42.0</td>\n",
       "      <td>0</td>\n",
       "      <td>0.0</td>\n",
       "      <td>0.31820</td>\n",
       "      <td>RepMoBrooks,TTuberville,RepBarryMoore ASCPhar...</td>\n",
       "      <td>al01, alpolitics al01      al01   alpolitics, ...</td>\n",
       "      <td>[two, things, must, happen, polls, close, Amer...</td>\n",
       "      <td>TTuberville</td>\n",
       "      <td>al01</td>\n",
       "    </tr>\n",
       "    <tr>\n",
       "      <th>Arizona</th>\n",
       "      <td>259.0</td>\n",
       "      <td>166.0</td>\n",
       "      <td>0</td>\n",
       "      <td>0.0</td>\n",
       "      <td>0.31820</td>\n",
       "      <td>SheRa_Resists,RepGosar,realDonaldTrump,RepGosa...</td>\n",
       "      <td>Narcissistic, AZ04   AZ04   AZ04, Arizona  A...</td>\n",
       "      <td>[RepGosar, realDonaldTrump, know, RepGosar, bl...</td>\n",
       "      <td>realDonaldTrump</td>\n",
       "      <td>AZ01</td>\n",
       "    </tr>\n",
       "    <tr>\n",
       "      <th>Arkansas</th>\n",
       "      <td>63.0</td>\n",
       "      <td>48.0</td>\n",
       "      <td>0</td>\n",
       "      <td>0.0</td>\n",
       "      <td>0.55740</td>\n",
       "      <td>will_watson NicoleFauteux1,BGlickstein,delina...</td>\n",
       "      <td>bellavistaarkansas, election2020, electi...</td>\n",
       "      <td>[NicoleFauteux1, BGlickstein, delina4az, Freel...</td>\n",
       "      <td>RonettaForAR1</td>\n",
       "      <td>ElectANurse</td>\n",
       "    </tr>\n",
       "    <tr>\n",
       "      <th>California</th>\n",
       "      <td>808.0</td>\n",
       "      <td>532.0</td>\n",
       "      <td>0</td>\n",
       "      <td>0.0</td>\n",
       "      <td>0.27320</td>\n",
       "      <td>IKhoR_Slayz knittwittier,vermontgmg   WallStXy...</td>\n",
       "      <td>...</td>\n",
       "      <td>[part, knittwittier, vermontgmg, Yes, saying, ...</td>\n",
       "      <td>realDonaldTrump</td>\n",
       "      <td>CA53</td>\n",
       "    </tr>\n",
       "    <tr>\n",
       "      <th>Colorado</th>\n",
       "      <td>104.0</td>\n",
       "      <td>77.0</td>\n",
       "      <td>8</td>\n",
       "      <td>7.0</td>\n",
       "      <td>0.19935</td>\n",
       "      <td>pweiser,JenaGris...</td>\n",
       "      <td>VOTE  VOTE      ...</td>\n",
       "      <td>[Thank, everyone, donated, volunteered, voted,...</td>\n",
       "      <td>realDonaldTrump</td>\n",
       "      <td>copolitics</td>\n",
       "    </tr>\n",
       "  </tbody>\n",
       "</table>\n",
       "</div>"
      ],
      "text/plain": [
       "            party_D  party_R  party_I  party_Other  sentiment_score  \\\n",
       "state                                                                 \n",
       "Alabama        99.0     42.0        0          0.0          0.31820   \n",
       "Arizona       259.0    166.0        0          0.0          0.31820   \n",
       "Arkansas       63.0     48.0        0          0.0          0.55740   \n",
       "California    808.0    532.0        0          0.0          0.27320   \n",
       "Colorado      104.0     77.0        8          7.0          0.19935   \n",
       "\n",
       "                                                      mention  \\\n",
       "state                                                           \n",
       "Alabama      RepMoBrooks,TTuberville,RepBarryMoore ASCPhar...   \n",
       "Arizona     SheRa_Resists,RepGosar,realDonaldTrump,RepGosa...   \n",
       "Arkansas     will_watson NicoleFauteux1,BGlickstein,delina...   \n",
       "California  IKhoR_Slayz knittwittier,vermontgmg   WallStXy...   \n",
       "Colorado                                  pweiser,JenaGris...   \n",
       "\n",
       "                                                     hashtags  \\\n",
       "state                                                           \n",
       "Alabama     al01, alpolitics al01      al01   alpolitics, ...   \n",
       "Arizona       Narcissistic, AZ04   AZ04   AZ04, Arizona  A...   \n",
       "Arkansas          bellavistaarkansas, election2020, electi...   \n",
       "California                                                ...   \n",
       "Colorado                                  VOTE  VOTE      ...   \n",
       "\n",
       "                                               cleaned_tokens  \\\n",
       "state                                                           \n",
       "Alabama     [two, things, must, happen, polls, close, Amer...   \n",
       "Arizona     [RepGosar, realDonaldTrump, know, RepGosar, bl...   \n",
       "Arkansas    [NicoleFauteux1, BGlickstein, delina4az, Freel...   \n",
       "California  [part, knittwittier, vermontgmg, Yes, saying, ...   \n",
       "Colorado    [Thank, everyone, donated, volunteered, voted,...   \n",
       "\n",
       "               freq_mention freq_hashtag  \n",
       "state                                     \n",
       "Alabama         TTuberville         al01  \n",
       "Arizona     realDonaldTrump         AZ01  \n",
       "Arkansas      RonettaForAR1  ElectANurse  \n",
       "California  realDonaldTrump         CA53  \n",
       "Colorado    realDonaldTrump   copolitics  "
      ]
     },
     "execution_count": 33,
     "metadata": {},
     "output_type": "execute_result"
    }
   ],
   "source": [
    "state_group.head()"
   ]
  },
  {
   "cell_type": "markdown",
   "metadata": {},
   "source": [
    "## 5. Extract the 5 most frequently used words/topics for each state\n",
    "\n",
    "First we lemmatize each word, i.e extract the root for each word to equalize them. E.g. Running, ran, runner will all be reduced to the root word _run_"
   ]
  },
  {
   "cell_type": "code",
   "execution_count": 34,
   "metadata": {},
   "outputs": [
    {
     "name": "stderr",
     "output_type": "stream",
     "text": [
      "[nltk_data] Downloading package wordnet to\n",
      "[nltk_data]     C:\\Users\\manu9321\\AppData\\Roaming\\nltk_data...\n",
      "[nltk_data]   Package wordnet is already up-to-date!\n"
     ]
    },
    {
     "data": {
      "text/plain": [
       "True"
      ]
     },
     "execution_count": 34,
     "metadata": {},
     "output_type": "execute_result"
    }
   ],
   "source": [
    "nltk.download('wordnet')"
   ]
  },
  {
   "cell_type": "code",
   "execution_count": 35,
   "metadata": {},
   "outputs": [],
   "source": [
    "from nltk.corpus import wordnet as wn"
   ]
  },
  {
   "cell_type": "code",
   "execution_count": 36,
   "metadata": {},
   "outputs": [],
   "source": [
    "def get_lemma(word):\n",
    "    '''Return root of each word'''\n",
    "    lemma = wn.morphy(word)\n",
    "    if lemma is None:\n",
    "        return word\n",
    "    else:\n",
    "        return lemma\n",
    "\n",
    "def lemmatize_tokens(tokens):\n",
    "    '''Return cleaned tokens in their root form'''\n",
    "    return [get_lemma(token).lower() for token in tokens]"
   ]
  },
  {
   "cell_type": "code",
   "execution_count": 37,
   "metadata": {},
   "outputs": [],
   "source": [
    "state_group['token_root_words'] = state_group['cleaned_tokens'].apply(lemmatize_tokens)"
   ]
  },
  {
   "cell_type": "markdown",
   "metadata": {},
   "source": [
    "We now use these lemmatized tokens to extract the 10 most frequent words/topics with frequency of each"
   ]
  },
  {
   "cell_type": "code",
   "execution_count": 38,
   "metadata": {},
   "outputs": [],
   "source": [
    "from nltk.probability import FreqDist"
   ]
  },
  {
   "cell_type": "code",
   "execution_count": 39,
   "metadata": {},
   "outputs": [],
   "source": [
    "def frequent_words_for_state(token_roots):\n",
    "    '''Return the 10 most frequent words in tweets for each state'''\n",
    "    return FreqDist(token_roots).most_common(10)"
   ]
  },
  {
   "cell_type": "code",
   "execution_count": 40,
   "metadata": {},
   "outputs": [
    {
     "data": {
      "text/html": [
       "<div>\n",
       "<style scoped>\n",
       "    .dataframe tbody tr th:only-of-type {\n",
       "        vertical-align: middle;\n",
       "    }\n",
       "\n",
       "    .dataframe tbody tr th {\n",
       "        vertical-align: top;\n",
       "    }\n",
       "\n",
       "    .dataframe thead th {\n",
       "        text-align: right;\n",
       "    }\n",
       "</style>\n",
       "<table border=\"1\" class=\"dataframe\">\n",
       "  <thead>\n",
       "    <tr style=\"text-align: right;\">\n",
       "      <th></th>\n",
       "      <th>party_D</th>\n",
       "      <th>party_R</th>\n",
       "      <th>party_I</th>\n",
       "      <th>party_Other</th>\n",
       "      <th>sentiment_score</th>\n",
       "      <th>mention</th>\n",
       "      <th>hashtags</th>\n",
       "      <th>cleaned_tokens</th>\n",
       "      <th>freq_mention</th>\n",
       "      <th>freq_hashtag</th>\n",
       "      <th>token_root_words</th>\n",
       "      <th>freq_10_words</th>\n",
       "    </tr>\n",
       "    <tr>\n",
       "      <th>state</th>\n",
       "      <th></th>\n",
       "      <th></th>\n",
       "      <th></th>\n",
       "      <th></th>\n",
       "      <th></th>\n",
       "      <th></th>\n",
       "      <th></th>\n",
       "      <th></th>\n",
       "      <th></th>\n",
       "      <th></th>\n",
       "      <th></th>\n",
       "      <th></th>\n",
       "    </tr>\n",
       "  </thead>\n",
       "  <tbody>\n",
       "    <tr>\n",
       "      <th>Alabama</th>\n",
       "      <td>99.0</td>\n",
       "      <td>42.0</td>\n",
       "      <td>0</td>\n",
       "      <td>0.0</td>\n",
       "      <td>0.31820</td>\n",
       "      <td>RepMoBrooks,TTuberville,RepBarryMoore ASCPhar...</td>\n",
       "      <td>al01, alpolitics al01      al01   alpolitics, ...</td>\n",
       "      <td>[two, things, must, happen, polls, close, Amer...</td>\n",
       "      <td>TTuberville</td>\n",
       "      <td>al01</td>\n",
       "      <td>[two, things, must, happen, polls, close, amer...</td>\n",
       "      <td>[(vote, 29), (thank, 20), (election, 15), (tod...</td>\n",
       "    </tr>\n",
       "    <tr>\n",
       "      <th>Arizona</th>\n",
       "      <td>259.0</td>\n",
       "      <td>166.0</td>\n",
       "      <td>0</td>\n",
       "      <td>0.0</td>\n",
       "      <td>0.31820</td>\n",
       "      <td>SheRa_Resists,RepGosar,realDonaldTrump,RepGosa...</td>\n",
       "      <td>Narcissistic, AZ04   AZ04   AZ04, Arizona  A...</td>\n",
       "      <td>[RepGosar, realDonaldTrump, know, RepGosar, bl...</td>\n",
       "      <td>realDonaldTrump</td>\n",
       "      <td>AZ01</td>\n",
       "      <td>[repgosar, realdonaldtrump, know, repgosar, bl...</td>\n",
       "      <td>[(vote, 136), (election, 61), (thank, 50), (ba...</td>\n",
       "    </tr>\n",
       "    <tr>\n",
       "      <th>Arkansas</th>\n",
       "      <td>63.0</td>\n",
       "      <td>48.0</td>\n",
       "      <td>0</td>\n",
       "      <td>0.0</td>\n",
       "      <td>0.55740</td>\n",
       "      <td>will_watson NicoleFauteux1,BGlickstein,delina...</td>\n",
       "      <td>bellavistaarkansas, election2020, electi...</td>\n",
       "      <td>[NicoleFauteux1, BGlickstein, delina4az, Freel...</td>\n",
       "      <td>RonettaForAR1</td>\n",
       "      <td>ElectANurse</td>\n",
       "      <td>[nicolefauteux1, bglickstein, delina4az, freel...</td>\n",
       "      <td>[(vote, 42), (us, 20), (voting, 20), (voter, 1...</td>\n",
       "    </tr>\n",
       "    <tr>\n",
       "      <th>California</th>\n",
       "      <td>808.0</td>\n",
       "      <td>532.0</td>\n",
       "      <td>0</td>\n",
       "      <td>0.0</td>\n",
       "      <td>0.27320</td>\n",
       "      <td>IKhoR_Slayz knittwittier,vermontgmg   WallStXy...</td>\n",
       "      <td>...</td>\n",
       "      <td>[part, knittwittier, vermontgmg, Yes, saying, ...</td>\n",
       "      <td>realDonaldTrump</td>\n",
       "      <td>CA53</td>\n",
       "      <td>[part, knittwittier, vermontgmg, yes, saying, ...</td>\n",
       "      <td>[(vote, 526), (election, 219), (ballot, 152), ...</td>\n",
       "    </tr>\n",
       "    <tr>\n",
       "      <th>Colorado</th>\n",
       "      <td>104.0</td>\n",
       "      <td>77.0</td>\n",
       "      <td>8</td>\n",
       "      <td>7.0</td>\n",
       "      <td>0.19935</td>\n",
       "      <td>pweiser,JenaGris...</td>\n",
       "      <td>VOTE  VOTE      ...</td>\n",
       "      <td>[Thank, everyone, donated, volunteered, voted,...</td>\n",
       "      <td>realDonaldTrump</td>\n",
       "      <td>copolitics</td>\n",
       "      <td>[thank, everyone, donate, volunteer, vote, hop...</td>\n",
       "      <td>[(vote, 79), (election, 66), (ballot, 48), (dr...</td>\n",
       "    </tr>\n",
       "  </tbody>\n",
       "</table>\n",
       "</div>"
      ],
      "text/plain": [
       "            party_D  party_R  party_I  party_Other  sentiment_score  \\\n",
       "state                                                                 \n",
       "Alabama        99.0     42.0        0          0.0          0.31820   \n",
       "Arizona       259.0    166.0        0          0.0          0.31820   \n",
       "Arkansas       63.0     48.0        0          0.0          0.55740   \n",
       "California    808.0    532.0        0          0.0          0.27320   \n",
       "Colorado      104.0     77.0        8          7.0          0.19935   \n",
       "\n",
       "                                                      mention  \\\n",
       "state                                                           \n",
       "Alabama      RepMoBrooks,TTuberville,RepBarryMoore ASCPhar...   \n",
       "Arizona     SheRa_Resists,RepGosar,realDonaldTrump,RepGosa...   \n",
       "Arkansas     will_watson NicoleFauteux1,BGlickstein,delina...   \n",
       "California  IKhoR_Slayz knittwittier,vermontgmg   WallStXy...   \n",
       "Colorado                                  pweiser,JenaGris...   \n",
       "\n",
       "                                                     hashtags  \\\n",
       "state                                                           \n",
       "Alabama     al01, alpolitics al01      al01   alpolitics, ...   \n",
       "Arizona       Narcissistic, AZ04   AZ04   AZ04, Arizona  A...   \n",
       "Arkansas          bellavistaarkansas, election2020, electi...   \n",
       "California                                                ...   \n",
       "Colorado                                  VOTE  VOTE      ...   \n",
       "\n",
       "                                               cleaned_tokens  \\\n",
       "state                                                           \n",
       "Alabama     [two, things, must, happen, polls, close, Amer...   \n",
       "Arizona     [RepGosar, realDonaldTrump, know, RepGosar, bl...   \n",
       "Arkansas    [NicoleFauteux1, BGlickstein, delina4az, Freel...   \n",
       "California  [part, knittwittier, vermontgmg, Yes, saying, ...   \n",
       "Colorado    [Thank, everyone, donated, volunteered, voted,...   \n",
       "\n",
       "               freq_mention freq_hashtag  \\\n",
       "state                                      \n",
       "Alabama         TTuberville         al01   \n",
       "Arizona     realDonaldTrump         AZ01   \n",
       "Arkansas      RonettaForAR1  ElectANurse   \n",
       "California  realDonaldTrump         CA53   \n",
       "Colorado    realDonaldTrump   copolitics   \n",
       "\n",
       "                                             token_root_words  \\\n",
       "state                                                           \n",
       "Alabama     [two, things, must, happen, polls, close, amer...   \n",
       "Arizona     [repgosar, realdonaldtrump, know, repgosar, bl...   \n",
       "Arkansas    [nicolefauteux1, bglickstein, delina4az, freel...   \n",
       "California  [part, knittwittier, vermontgmg, yes, saying, ...   \n",
       "Colorado    [thank, everyone, donate, volunteer, vote, hop...   \n",
       "\n",
       "                                                freq_10_words  \n",
       "state                                                          \n",
       "Alabama     [(vote, 29), (thank, 20), (election, 15), (tod...  \n",
       "Arizona     [(vote, 136), (election, 61), (thank, 50), (ba...  \n",
       "Arkansas    [(vote, 42), (us, 20), (voting, 20), (voter, 1...  \n",
       "California  [(vote, 526), (election, 219), (ballot, 152), ...  \n",
       "Colorado    [(vote, 79), (election, 66), (ballot, 48), (dr...  "
      ]
     },
     "execution_count": 40,
     "metadata": {},
     "output_type": "execute_result"
    }
   ],
   "source": [
    "state_group['freq_10_words'] = state_group['token_root_words'].apply(frequent_words_for_state)\n",
    "state_group.head()"
   ]
  },
  {
   "cell_type": "code",
   "execution_count": 41,
   "metadata": {},
   "outputs": [
    {
     "data": {
      "text/plain": [
       "(39, 20)"
      ]
     },
     "execution_count": 41,
     "metadata": {},
     "output_type": "execute_result"
    }
   ],
   "source": [
    "states_twitter = states_df.merge(right=state_group, left_on='STATE_NAME', right_on='state')\n",
    "states_twitter.shape"
   ]
  },
  {
   "cell_type": "code",
   "execution_count": 42,
   "metadata": {},
   "outputs": [],
   "source": [
    "def split_freq_words(list1):\n",
    "    result = ''\n",
    "    for item in list1:\n",
    "        result = result + item[0] + ', '\n",
    "    return result"
   ]
  },
  {
   "cell_type": "code",
   "execution_count": 43,
   "metadata": {},
   "outputs": [],
   "source": [
    "states_twitter['freq_words'] = states_twitter['freq_10_words'].apply(split_freq_words)"
   ]
  },
  {
   "cell_type": "code",
   "execution_count": 44,
   "metadata": {},
   "outputs": [
    {
     "data": {
      "text/plain": [
       "0    vote, thank, election, today, let, us, make, s...\n",
       "1    vote, election, thank, ballot, arizona, count,...\n",
       "2    vote, us, voting, voter, electanurse, today, d...\n",
       "3    vote, election, ballot, make, day, today, peop...\n",
       "4    vote, election, ballot, drop, line, day, sure,...\n",
       "Name: freq_words, dtype: object"
      ]
     },
     "execution_count": 44,
     "metadata": {},
     "output_type": "execute_result"
    }
   ],
   "source": [
    "states_twitter['freq_words'].head()"
   ]
  },
  {
   "cell_type": "code",
   "execution_count": 45,
   "metadata": {},
   "outputs": [],
   "source": [
    "states_twitter_data = states_twitter[['STATE_FIPS',\n",
    "       'STATE_NAME', 'party_D', 'party_R', 'party_I', 'party_Other',\n",
    "       'sentiment_score', 'freq_mention', 'freq_hashtag', 'freq_words']]"
   ]
  },
  {
   "cell_type": "code",
   "execution_count": 46,
   "metadata": {},
   "outputs": [],
   "source": [
    "states_twitter_data.to_csv('tweets_analyzed.csv')"
   ]
  },
  {
   "cell_type": "code",
   "execution_count": null,
   "metadata": {},
   "outputs": [],
   "source": []
  }
 ],
 "metadata": {
  "kernelspec": {
   "display_name": "Python 3",
   "language": "python",
   "name": "python3"
  },
  "language_info": {
   "codemirror_mode": {
    "name": "ipython",
    "version": 3
   },
   "file_extension": ".py",
   "mimetype": "text/x-python",
   "name": "python",
   "nbconvert_exporter": "python",
   "pygments_lexer": "ipython3",
   "version": "3.7.1"
  }
 },
 "nbformat": 4,
 "nbformat_minor": 2
}
